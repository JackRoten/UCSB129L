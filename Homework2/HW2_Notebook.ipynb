{
 "cells": [
  {
   "cell_type": "markdown",
   "metadata": {},
   "source": [
    "# HW 2 notebook"
   ]
  },
  {
   "cell_type": "code",
   "execution_count": 12,
   "metadata": {},
   "outputs": [
    {
     "name": "stdout",
     "output_type": "stream",
     "text": [
      "Please enter a number:7\n",
      "49\n"
     ]
    }
   ],
   "source": [
    "#!/usr/bin/env python3\n",
    "#\n",
    "# StupidHWProgram1.py\n",
    "# \n",
    "# Prompt user to input one integer\n",
    "# Output number squared if input is integer\n",
    "# Output error if not integer and ask for another input\n",
    "#\n",
    "# Jack Roten 23 Jan 19\n",
    "#-------------------------------------------------------\n",
    "\n",
    "\n",
    "val=int(input('Please enter a number:'))\n",
    "try:\n",
    "    isinstance(val, int)\n",
    "    print(val**2)\n",
    "except (RuntimeError, TypeError, NameError):\n",
    "    print('Input not an integer, Please enter an integer')\n",
    "    raise\n",
    "#make it so this loops back and asks again, how do you do this?\n"
   ]
  },
  {
   "cell_type": "code",
   "execution_count": null,
   "metadata": {},
   "outputs": [],
   "source": [
    "while True:\n",
    "    try:\n",
    "        userInput = int(input(\"Please enter an integer: \"))\n",
    "    except ValueError:\n",
    "        # if input is not an integer we will loop back.\n",
    "        print(\"Type is not a number, please enter a number: \")\n",
    "        continue\n",
    "    else:\n",
    "        #input was sucesfully parsed\n",
    "        #we are ready to exit the loop\n",
    "        print('Here is your inputed number squared: ', userInput**2)\n",
    "        break\n",
    "        \n",
    "                        "
   ]
  },
  {
   "cell_type": "code",
   "execution_count": 29,
   "metadata": {},
   "outputs": [
    {
     "name": "stdout",
     "output_type": "stream",
     "text": [
      "2 to the power  2\n",
      "3 to the power  1\n",
      "191 to the power  1\n",
      "1993 to the power  1\n"
     ]
    }
   ],
   "source": [
    "def prime_factors(n):\n",
    "    i = 2\n",
    "    factors = []\n",
    "    while i * i <= n:\n",
    "        if n % i:\n",
    "            i += 1\n",
    "        else:\n",
    "            n //= i\n",
    "            factors.append(i)\n",
    "    if n > 1:\n",
    "        factors.append(n)\n",
    "    return factors\n",
    "a = prime_factors(4567956)\n",
    "from collections import Counter\n",
    "counter = Counter(a)\n",
    "for key,val in counter.items():\n",
    "    print(key, 'to the power ', val)\n",
    "    "
   ]
  },
  {
   "cell_type": "code",
   "execution_count": 1,
   "metadata": {},
   "outputs": [],
   "source": [
    "\n",
    "#def count_words_and_letters(sentence):\n",
    "#    wordList = []\n",
    "#    letterList = []\n",
    "#    wordList.append(ii) for ii in wordList\n",
    "#    wordCount = len(wordList)\n",
    "#    print(wordCount)\n",
    "#    letterList.append(jj) for jj in wordlist\n",
    "#    letterCount = len(letterList)\n",
    "\n",
    "#sentence = input('Please enter a sentence')\n",
    "#pgrmOut = count_words_and_letters(sentence)\n",
    "\n",
    "def count_chars(txt):\n",
    "    result = 0\n",
    "    for char in txt:\n",
    "        result += 1     # same as result = result + 1\n",
    "    return result"
   ]
  },
  {
   "cell_type": "code",
   "execution_count": 3,
   "metadata": {},
   "outputs": [
    {
     "name": "stdout",
     "output_type": "stream",
     "text": [
      "18\n"
     ]
    }
   ],
   "source": [
    "outPut = count_chars(\"this is a sentence\")\n",
    "print(outPut)"
   ]
  },
  {
   "cell_type": "code",
   "execution_count": 38,
   "metadata": {},
   "outputs": [
    {
     "name": "stdout",
     "output_type": "stream",
     "text": [
      "Counter({'this': 1, 'is': 1, 'a': 1, 'sentence': 1})\n"
     ]
    }
   ],
   "source": [
    "from collections import Counter\n",
    "userInput = \"this is a sentence\"\n",
    "print(Counter(userInput.split()))\n"
   ]
  },
  {
   "cell_type": "code",
   "execution_count": 58,
   "metadata": {},
   "outputs": [
    {
     "name": "stdout",
     "output_type": "stream",
     "text": [
      "5\n",
      "['four', 'four', 'four', 'four', 'six']\n",
      "0\n",
      "[3, 4, 4, 4, 4]\n",
      "{3: 1, 4: 5}\n"
     ]
    },
    {
     "data": {
      "text/plain": [
       "19"
      ]
     },
     "execution_count": 58,
     "metadata": {},
     "output_type": "execute_result"
    }
   ],
   "source": [
    "import string\n",
    "phrase = 'four, four. four four six'\n",
    "table = str.maketrans({key: None for key in string.punctuation})\n",
    "phrase = phrase.translate(table)\n",
    "#print(phrase)\n",
    "words = phrase.split()\n",
    "wordCount = len(words)\n",
    "print(wordCount)\n",
    "print(words)\n",
    "letterNumber = words.count(words)\n",
    "print(letterNumber)\n",
    "x = sorted(map(len, phrase.split()))\n",
    "print(sorted(map(len, phrase.split())))\n",
    "\n",
    "\n",
    "word_lengths = {}\n",
    "\n",
    "total = 0\n",
    "for k,v in sorted(Counter(map(len, phrase.split())).items()):\n",
    "    total += v\n",
    "    word_lengths[k] = total\n",
    "print(word_lengths)\n",
    "\n",
    "sum(x)\n",
    "\n",
    "\n",
    "#def count_lengths(phrase, n):\n",
    "#    lengths = [len(word) for word in phrase.split()]\n",
    "#    word_lengths = Counter(lengths)\n",
    "#    # count the total number of words with lengths less than or equal to n\n",
    "#    n_and_less_chars = sum(value for key, value in word_lengths.items() if key <= n)\n",
    "#    letter_number = sum(word_lengths.key() in word_lengths)\n",
    "#    return n_and_less_chars"
   ]
  },
  {
   "cell_type": "code",
   "execution_count": 64,
   "metadata": {},
   "outputs": [
    {
     "name": "stdout",
     "output_type": "stream",
     "text": [
      "Please enter a sentence: four, four, four, four\n",
      "Number of words in sentence:  4\n",
      "Number of letter in sentence:  16\n"
     ]
    }
   ],
   "source": [
    "import string\n",
    "from collections import Counter\n",
    "\n",
    "phrase = input('Please enter a sentence: ')\n",
    "phrase = phrase.translate(str.maketrans({key: None for key in string.punctuation}))\n",
    "print('Number of words in sentence: ', len(phrase.split()))\n",
    "print('Number of letter in sentence: ', sum(sorted(map(len, phrase.split()))))\n"
   ]
  },
  {
   "cell_type": "code",
   "execution_count": null,
   "metadata": {},
   "outputs": [],
   "source": []
  }
 ],
 "metadata": {
  "kernelspec": {
   "display_name": "Python 3",
   "language": "python",
   "name": "python3"
  },
  "language_info": {
   "codemirror_mode": {
    "name": "ipython",
    "version": 3
   },
   "file_extension": ".py",
   "mimetype": "text/x-python",
   "name": "python",
   "nbconvert_exporter": "python",
   "pygments_lexer": "ipython3",
   "version": "3.7.1"
  }
 },
 "nbformat": 4,
 "nbformat_minor": 2
}
