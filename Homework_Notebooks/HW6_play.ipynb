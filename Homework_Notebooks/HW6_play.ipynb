{
 "cells": [
  {
   "cell_type": "code",
   "execution_count": 1,
   "metadata": {},
   "outputs": [],
   "source": [
    "# Exercise 1"
   ]
  },
  {
   "cell_type": "code",
   "execution_count": null,
   "metadata": {},
   "outputs": [],
   "source": []
  },
  {
   "cell_type": "code",
   "execution_count": null,
   "metadata": {},
   "outputs": [],
   "source": [
    "# Exercise 2\n",
    "\n",
    "# Take solution from HW 4 and modify this to accept \n",
    "# inputs for N, mu, sigma, and use posterior pdf\n",
    "# to calculate the 95% Bayesean Confidence Level (CL)\n",
    "# lower limit on S\n",
    "# What is the value of S for which you can say that all\n",
    "# true values of S can be excluded with at least 95%\n",
    "# confidence. \n",
    "# Make a note of results for N=5 and N=1 when mu=3 and \n",
    "# sigma=0.5. will include this in the next exercise. \n",
    "\n",
    "\n",
    "\n",
    "\n"
   ]
  },
  {
   "cell_type": "code",
   "execution_count": null,
   "metadata": {},
   "outputs": [],
   "source": []
  },
  {
   "cell_type": "code",
   "execution_count": null,
   "metadata": {},
   "outputs": [],
   "source": [
    "import math\n",
    "import numpy as np\n",
    "import matplotlib.pyplot as plt\n",
    "import scipy.stats as stats\n",
    "import ccHistStuff as cc"
   ]
  },
  {
   "cell_type": "code",
   "execution_count": null,
   "metadata": {},
   "outputs": [],
   "source": [
    "# This is a plot of the function\n",
    "# f(x) = Integral [exp(-x-y) * (x+y)^N G(y | mu sigma) dy]\n",
    "# where G is a Gaussian for y of mean=mu and std dev=sigma\n",
    "# with y>0\n",
    "#\n",
    "# It is plotted betwee x1 and x2\n",
    "\n",
    "# The function that multiplies the Gaussian\n",
    "def ff(x,y,N):\n",
    "    return np.exp(-x-y) * (x+y)**N\n",
    "\n",
    "# parameters from problem\n",
    "N       = 5\n",
    "mu      = 3\n",
    "sigma   = 0.5\n",
    "x1      = -3.\n",
    "x2      = 15.\n",
    "npoints = 100            # number of points in x to plot\n",
    "ntoy    = 1000           # for MC integration of y\n",
    "dx      = (x2-x1)/100\n",
    "xar     = np.linspace(x1, x2, npoints) # the points in x to plot\n",
    "\n",
    "# init random number\n",
    "np.random.seed(1234567)\n",
    "\n",
    "# an array for f(x) initialized to zero\n",
    "far = np.zeros(npoints)\n",
    "i = 0\n",
    "for x in xar:\n",
    "    y      = np.random.normal(mu, sigma, ntoy)  # pick y\n",
    "    y      = y[ y> 0 ]      # require y>0\n",
    "    thisN  = len(y)         # how many \"usable\" y's do we really have?       \n",
    "    ftoy   = ff(x, y, N)    \n",
    "    far[i] = (1./thisN) * ftoy.sum()\n",
    "    i      = i + 1\n",
    "\n",
    "# now the plot\n",
    "fig, ax = plt.subplots()\n",
    "ax.plot(xar, far)\n",
    "ax.set_xlim(x1,x2)\n",
    "ax.set_ylim(0)\n",
    "ax.grid(True, which='both')\n",
    "fig.show()\n",
    "input(\"blah to continue\")\n"
   ]
  }
 ],
 "metadata": {
  "kernelspec": {
   "display_name": "Python 3",
   "language": "python",
   "name": "python3"
  },
  "language_info": {
   "codemirror_mode": {
    "name": "ipython",
    "version": 3
   },
   "file_extension": ".py",
   "mimetype": "text/x-python",
   "name": "python",
   "nbconvert_exporter": "python",
   "pygments_lexer": "ipython3",
   "version": "3.7.1"
  }
 },
 "nbformat": 4,
 "nbformat_minor": 2
}
