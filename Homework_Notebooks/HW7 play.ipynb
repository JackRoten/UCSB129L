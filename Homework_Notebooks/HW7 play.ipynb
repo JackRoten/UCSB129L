{
 "cells": [
  {
   "cell_type": "code",
   "execution_count": 1,
   "metadata": {},
   "outputs": [],
   "source": [
    "%matplotlib inline\n",
    "\n",
    "import pandas as pd\n",
    "import scipy.optimize as sc\n",
    "import numpy as np\n",
    "import matplotlib.pyplot as plt\n",
    "from matplotlib import animation\n",
    "\n",
    "data = pd.read_csv(\"/home/jack/Code/UCSB129L/Roten-8831794-hw7/straightTracks.txt\", sep=\" \") \n",
    "data.columns = ['X0','Y0','y00','y01','y02','y03','y10','y11','y12','y13','0']"
   ]
  },
  {
   "cell_type": "code",
   "execution_count": 2,
   "metadata": {
    "scrolled": true
   },
   "outputs": [],
   "source": [
    "#data\n",
    "#sorted(data['y00'])\n",
    "#These values go roughly from -2 tp 2\n",
    "# this doesn't make a whole lot of sence since"
   ]
  },
  {
   "cell_type": "code",
   "execution_count": 3,
   "metadata": {},
   "outputs": [
    {
     "data": {
      "image/png": "[encoded data removed]",
      "text/plain": [
       "<Figure size 432x288 with 1 Axes>"
      ]
     },
     "metadata": {
      "needs_background": "light"
     },
     "output_type": "display_data"
    }
   ],
   "source": [
    "X = data['X0'][1] - data['X0'][0]\n",
    "y = data['y01'][1] - data['y01'][0]\n",
    "m = X/y\n",
    "f = np.linspace(0,10)*m\n",
    "plt.plot(f)\n",
    "plt.show()"
   ]
  },
  {
   "cell_type": "code",
   "execution_count": 4,
   "metadata": {},
   "outputs": [],
   "source": [
    "## aquire a y value from y00 and then using some \n",
    "# triangle identies to calculate how far away \n",
    "# an x-axis intercept is\n"
   ]
  },
  {
   "cell_type": "code",
   "execution_count": 5,
   "metadata": {},
   "outputs": [
    {
     "data": {
      "text/plain": [
       "Text(0.5, 1.0, 'y03')"
      ]
     },
     "execution_count": 5,
     "metadata": {},
     "output_type": "execute_result"
    },
    {
     "data": {
      "image/png": "[encoded data removed]",
      "text/plain": [
       "<Figure size 432x288 with 1 Axes>"
      ]
     },
     "metadata": {
      "needs_background": "light"
     },
     "output_type": "display_data"
    }
   ],
   "source": [
    "y00 = plt.hist(data['y00'], bins ='auto')\n",
    "plt.hist(data['y01'], bins ='auto')\n",
    "plt.hist(data['y02'], bins ='auto')\n",
    "plt.hist(data['y03'], bins ='auto')\n",
    "plt.title('y00, y01, y02, y03')\n",
    "# the distances of the the plates are 2,3,5,7\n",
    "# This is looking promising, I now have a good \n",
    "# distrubution of data graphed on the histogram.\n",
    "# The odd thing is that I \n",
    "\n",
    "# maybe I should take the point from the last set of data?"
   ]
  },
  {
   "cell_type": "code",
   "execution_count": 10,
   "metadata": {},
   "outputs": [
    {
     "data": {
      "image/png": "[encoded data removed]",
      "text/plain": [
       "<Figure size 432x288 with 1 Axes>"
      ]
     },
     "metadata": {
      "needs_background": "light"
     },
     "output_type": "display_data"
    }
   ],
   "source": [
    "y10 = plt.hist(data['y10'], bins = 11)\n",
    "y11 = plt.hist(data['y11'], bins =12)\n",
    "y12 = plt.hist(data['y12'], bins =12)\n",
    "y13 = plt.hist(data['y13'], bins =12)\n",
    "plt.title('y10, y11, y12, y03')\n",
    "plt.xlabel('bins')\n",
    "plt.ylabel('counts')\n",
    "plt.show()\n",
    "# This number of bins is determined from using the \n",
    "# bins = 'auto' parameter, then playing around with\n",
    "# the number of bins to get observable peaks.\n",
    "# Now take the middle value of each bin with the greatest\n",
    "# number of counts"
   ]
  },
  {
   "cell_type": "code",
   "execution_count": 29,
   "metadata": {},
   "outputs": [
    {
     "name": "stdout",
     "output_type": "stream",
     "text": [
      "bin count:  92.0 at -1.9973583377179256\n",
      "bin count:  88.0 at -1.6346310649906521\n",
      "bin count:  81.0 at -1.2719037922633785\n",
      "bin count:  93.0 at -0.909176519536105\n",
      "bin count:  84.0 at -0.5464492468088313\n",
      "bin count:  94.0 at -0.18372197408155766\n",
      "bin count:  103.0 at 0.17900529864571557\n",
      "bin count:  89.0 at 0.5417325713729892\n",
      "bin count:  87.0 at 0.9044598441002629\n",
      "bin count:  87.0 at 1.2671871168275366\n",
      "bin count:  101.0 at 1.6299143895548103\n"
     ]
    }
   ],
   "source": [
    "x0=2\n",
    "x1=3\n",
    "x2=5\n",
    "x3=7\n",
    "for i in range(len(y10[0])):\n",
    "    print('bin count: ', y10[0][i], 'at', y10[1][i])\n",
    "\n",
    "# now wish to extract a value out of the histograms"
   ]
  },
  {
   "cell_type": "code",
   "execution_count": null,
   "metadata": {},
   "outputs": [],
   "source": [
    "# I want to extract the x value(max signal on plate)\n",
    "# and make that the y component in our original \n",
    "# system"
   ]
  },
  {
   "cell_type": "code",
   "execution_count": null,
   "metadata": {},
   "outputs": [],
   "source": [
    "## Need to fit the coordinates of each track to a straight line. Use either np.polyfit/ curve_fit from scipy\n",
    "# optimize\n",
    "# Maybe look for the spot that the particle seems to be most localized on the ditribution , then \n",
    "\n",
    "from scipy.stats import norm\n",
    "import matplotlib.mlab as mlab\n",
    "import matplotlib.pyplot as plt\n",
    "\n",
    "# read data from a text file. One number per line\n",
    "#arch = data['y00']\n",
    "datos = data['y00']\n",
    "#for item in len(arch):\n",
    "#    item = item.strip()\n",
    "#   if item != '':\n",
    "#        try:\n",
    "#           datos.append(float(item))\n",
    "#        except ValueError:\n",
    "#           pass\n",
    "\n",
    "# best fit of data\n",
    "(mu, sigma) = norm.fit(datos)\n",
    "\n",
    "# the histogram of the data\n",
    "n, bins, patches = plt.hist(datos, 250, normed=1, facecolor='green', alpha=0.75)\n",
    "\n",
    "# add a 'best fit' line\n",
    "y = mlab.normpdf( bins, mu, sigma)\n",
    "l = plt.plot(bins, y, 'r--', linewidth=2)\n",
    "\n",
    "#plot\n",
    "plt.xlabel('bins')\n",
    "plt.ylabel('Probability')\n",
    "plt.title(r'$\\mathrm{Histogram\\ of\\ IQ:}\\ \\mu=%.3f,\\ \\sigma=%.3f$' %(mu, sigma))\n",
    "plt.grid(True)\n",
    "\n",
    "plt.show()\n",
    "\n",
    "## This does not work for my purposes..."
   ]
  },
  {
   "cell_type": "code",
   "execution_count": null,
   "metadata": {},
   "outputs": [],
   "source": [
    "## I need to somehow extract the most common bin range.\n",
    "# what if created a varying range which went from the \n",
    "# one point in a bin, to two points in a bin, to three\n",
    "# points in a bin, etc. to one whole bin.\n",
    "# \n",
    "avgs = data['y00']\n",
    "bins = np.array([-2, -1, 0, 1, 2])\n",
    "binplace = np.digitize(avgs, bins, right=False)\n",
    "binplace\n"
   ]
  },
  {
   "cell_type": "code",
   "execution_count": null,
   "metadata": {},
   "outputs": [],
   "source": []
  }
 ],
 "metadata": {
  "kernelspec": {
   "display_name": "Python 3",
   "language": "python",
   "name": "python3"
  },
  "language_info": {
   "codemirror_mode": {
    "name": "ipython",
    "version": 3
   },
   "file_extension": ".py",
   "mimetype": "text/x-python",
   "name": "python",
   "nbconvert_exporter": "python",
   "pygments_lexer": "ipython3",
   "version": "3.7.1"
  }
 },
 "nbformat": 4,
 "nbformat_minor": 2
}
