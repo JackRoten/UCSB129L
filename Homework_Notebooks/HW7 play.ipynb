{
 "cells": [
  {
   "cell_type": "code",
   "execution_count": 3,
   "metadata": {},
   "outputs": [],
   "source": [
    "%matplotlib inline\n",
    "\n",
    "import pandas as pd\n",
    "import scipy.optimize as sc\n",
    "import numpy as np\n",
    "import matplotlib.pyplot as plt\n",
    "from matplotlib import animation\n",
    "\n",
    "data = pd.read_csv(\"/home/jack/Code/UCSB129L/Roten-8831794-hw7/straightTracks.txt\", sep=\" \") \n",
    "data.columns = ['X0','Y0','y00','y01','y02','y03','y10','y11','y12','y13','0']"
   ]
  },
  {
   "cell_type": "code",
   "execution_count": 4,
   "metadata": {},
   "outputs": [
    {
     "data": {
      "text/plain": [
       "Text(0.5, 1.0, 'y00, y01, y02, y03')"
      ]
     },
     "execution_count": 4,
     "metadata": {},
     "output_type": "execute_result"
    },
    {
     "data": {
      "image/png": "[encoded data removed]",
      "text/plain": [
       "<Figure size 432x288 with 1 Axes>"
      ]
     },
     "metadata": {
      "needs_background": "light"
     },
     "output_type": "display_data"
    }
   ],
   "source": [
    "y00 = plt.hist(data['y00'], bins ='auto')\n",
    "plt.hist(data['y01'], bins ='auto')\n",
    "plt.hist(data['y02'], bins ='auto')\n",
    "plt.hist(data['y03'], bins ='auto')\n",
    "plt.title('y00, y01, y02, y03')\n",
    "# the distances of the the plates are 2,3,5,7\n",
    "# This is looking promising, I now have a good \n",
    "# distrubution of data graphed on the histogram.\n",
    "# The odd thing is that I \n",
    "\n",
    "# maybe I should take the point from the last set of data?"
   ]
  },
  {
   "cell_type": "code",
   "execution_count": 5,
   "metadata": {},
   "outputs": [
    {
     "data": {
      "image/png": "[encoded data removed]",
      "text/plain": [
       "<Figure size 432x288 with 1 Axes>"
      ]
     },
     "metadata": {
      "needs_background": "light"
     },
     "output_type": "display_data"
    }
   ],
   "source": [
    "y10 = plt.hist(data['y10'], bins = 11)\n",
    "y11 = plt.hist(data['y11'], bins =12)\n",
    "y12 = plt.hist(data['y12'], bins =12)\n",
    "y13 = plt.hist(data['y13'], bins =12)\n",
    "plt.title('y10, y11, y12, y03')\n",
    "plt.xlabel('bins')\n",
    "plt.ylabel('counts')\n",
    "plt.show()\n",
    "# This number of bins is determined from using the \n",
    "# bins = 'auto' parameter, then playing around with\n",
    "# the number of bins to get observable peaks.\n",
    "# Now take the middle value of each bin with the greatest\n",
    "# number of counts"
   ]
  },
  {
   "cell_type": "markdown",
   "metadata": {},
   "source": [
    "### Elementary Calculation of y value for track 2\n",
    "This should be able to iterate over all the data sets and return y points, which in combination with known x points,\n",
    "we can form a set of coordinates. With this set of coordinates we can plot them on a graph, then fit a linear line to them, this will represent our tracks 1, and 2. From these tracks we can then find the x axis intercept(where y = 0), which will give us X1 for track 1 and X2 for track 2. Jebus this is a process!"
   ]
  },
  {
   "cell_type": "code",
   "execution_count": 6,
   "metadata": {},
   "outputs": [
    {
     "data": {
      "image/png": "[encoded data removed]",
      "text/plain": [
       "<Figure size 432x288 with 1 Axes>"
      ]
     },
     "metadata": {
      "needs_background": "light"
     },
     "output_type": "display_data"
    },
    {
     "name": "stdout",
     "output_type": "stream",
     "text": [
      "0.17900529864571557 \n",
      "\n",
      "0.5417325713729892 \n",
      "\n",
      "0.3603689350093524\n"
     ]
    }
   ],
   "source": [
    "x0=2\n",
    "x1=3\n",
    "x2=5\n",
    "x3=7\n",
    "y10=plt.hist(data['y10'], bins = 11)\n",
    "plt.show(True)\n",
    "#for i in range(len(y10[0])):\n",
    "    #print('bin count: ', y10[0][i], 'at', y10[1][i]) # this seems to give left side of the bin... \n",
    "    #print(y10[1][i+1], '\\n') # alls I need to do is take the average of these two left bin positions that will be my x value!\n",
    "\n",
    "y10maxind=y10[0].tolist().index(max(y10[0]))\n",
    "\n",
    "\n",
    "print(y10[1][y10maxind], '\\n')\n",
    "print(y10[1][y10maxind + 1], '\\n')\n",
    "y10ave=(y10[1][y10maxind] + y10[1][y10maxind + 1])/2 \n",
    "print(y10ave)\n",
    "\n",
    "#print('maximum at: ' )\n",
    "# now wish to extract a value out of the histograms\n",
    "\n",
    "# okay that is my y value!\n",
    "# take this and scale it as a function to 1 produce \n",
    "# a graph, 2 give largest counted value, 3 give point in y where this value is with respect to the y=0 axis."
   ]
  },
  {
   "cell_type": "code",
   "execution_count": 7,
   "metadata": {},
   "outputs": [],
   "source": [
    "class Datainfo:\n",
    "    def __init__(self, csv_filename):\n",
    "        '''\n",
    "        Reads in data file and provides pandas dataframe for later methods to build off of.\n",
    "        \n",
    "        '''\n",
    "        \n",
    "        self.csv_data = pd.read_csv(csv_filename, sep=' ')\n",
    "        self.csv_data.columns = ['X0','Y0','y00','y01','y02','y03','y10','y11','y12','y13','0']\n",
    "        \n",
    "    def histogram(self, column):\n",
    "        '''\n",
    "        Provides a histogram of given column or multiple columns\n",
    "        \n",
    "        '''\n",
    "\n",
    "        plt.hist(data[column], bins = 'auto')\n",
    "        plt.title(column)\n",
    "        plt.xlabel('bins')\n",
    "        plt.ylabel('counts')\n",
    "        plt.show()\n",
    "    \n",
    "    def ypoint(self, column):\n",
    "        '''\n",
    "        value for where histogram bin has max counts, the middle of this bin is taken to be the most common \n",
    "        particle hit and is considered the particle's trajectory point. This gets a little harry...\n",
    "        \n",
    "        '''\n",
    "        # puts our data into a histogram, visual add to finding max bin number\n",
    "        column=plt.hist(data[column], bins = 'auto') # pass column name into histogram method (from matplotlib)\n",
    "        \n",
    "        # turns np array into py list (allows to find max)\n",
    "        columnMaxInd=column[0].tolist().index(max(column[0])) \n",
    "        \n",
    "        #bin index gives left point of bin, so I am averaging the over left point of max bin and it's right point\n",
    "        # for n bins there are n+1 bin points!\n",
    "        columnAve=(column[1][columnMaxInd] + column[1][columnMaxInd + 1])/2 \n",
    "        \n",
    "        return columnAve\n",
    "    \n",
    "    \n",
    "    \n",
    "        "
   ]
  },
  {
   "cell_type": "code",
   "execution_count": 8,
   "metadata": {},
   "outputs": [
    {
     "data": {
      "text/plain": [
       "-1.077812883172459"
      ]
     },
     "execution_count": 8,
     "metadata": {},
     "output_type": "execute_result"
    },
    {
     "data": {
      "image/png": "[encoded data removed]",
      "text/plain": [
       "<Figure size 432x288 with 1 Axes>"
      ]
     },
     "metadata": {
      "needs_background": "light"
     },
     "output_type": "display_data"
    }
   ],
   "source": [
    "DI = Datainfo(\"/home/jack/Code/UCSB129L/Roten-8831794-hw7/straightTracks.txt\")\n",
    "DI.ypoint('y00')"
   ]
  },
  {
   "cell_type": "code",
   "execution_count": null,
   "metadata": {},
   "outputs": [],
   "source": []
  },
  {
   "cell_type": "code",
   "execution_count": null,
   "metadata": {},
   "outputs": [],
   "source": []
  },
  {
   "cell_type": "code",
   "execution_count": null,
   "metadata": {},
   "outputs": [],
   "source": []
  }
 ],
 "metadata": {
  "kernelspec": {
   "display_name": "Python 3",
   "language": "python",
   "name": "python3"
  },
  "language_info": {
   "codemirror_mode": {
    "name": "ipython",
    "version": 3
   },
   "file_extension": ".py",
   "mimetype": "text/x-python",
   "name": "python",
   "nbconvert_exporter": "python",
   "pygments_lexer": "ipython3",
   "version": "3.7.1"
  }
 },
 "nbformat": 4,
 "nbformat_minor": 2
}
