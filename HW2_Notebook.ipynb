{
 "cells": [
  {
   "cell_type": "markdown",
   "metadata": {},
   "source": [
    "# HW 2 notebook"
   ]
  },
  {
   "cell_type": "code",
   "execution_count": 12,
   "metadata": {},
   "outputs": [
    {
     "name": "stdout",
     "output_type": "stream",
     "text": [
      "Please enter a number:7\n",
      "49\n"
     ]
    }
   ],
   "source": [
    "#!/usr/bin/env python3\n",
    "#\n",
    "# StupidHWProgram1.py\n",
    "# \n",
    "# Prompt user to input one integer\n",
    "# Output number squared if input is integer\n",
    "# Output error if not integer and ask for another input\n",
    "#\n",
    "# Jack Roten 23 Jan 19\n",
    "#-------------------------------------------------------\n",
    "\n",
    "\n",
    "val=int(input('Please enter a number:'))\n",
    "try:\n",
    "    isinstance(val, int)\n",
    "    print(val**2)\n",
    "except (RuntimeError, TypeError, NameError):\n",
    "    print('Input not an integer, Please enter an integer')\n",
    "    raise\n",
    "#make it so this loops back and asks again, how do you do this?\n"
   ]
  },
  {
   "cell_type": "code",
   "execution_count": null,
   "metadata": {},
   "outputs": [],
   "source": [
    "while True:\n",
    "    try:\n",
    "        userInput = int(input(\"Please enter an integer: \"))\n",
    "    except ValueError:\n",
    "        # if input is not an integer we will loop back.\n",
    "        print(\"Type is not a number, please enter a number: \")\n",
    "        continue\n",
    "    else:\n",
    "        #input was sucesfully parsed\n",
    "        #we are ready to exit the loop\n",
    "        print('Here is your inputed number squared: ', userInput**2)\n",
    "        break\n",
    "        \n",
    "                        "
   ]
  },
  {
   "cell_type": "code",
   "execution_count": 29,
   "metadata": {},
   "outputs": [
    {
     "name": "stdout",
     "output_type": "stream",
     "text": [
      "2 to the power  2\n",
      "3 to the power  1\n",
      "191 to the power  1\n",
      "1993 to the power  1\n"
     ]
    }
   ],
   "source": [
    "def prime_factors(n):\n",
    "    i = 2\n",
    "    factors = []\n",
    "    while i * i <= n:\n",
    "        if n % i:\n",
    "            i += 1\n",
    "        else:\n",
    "            n //= i\n",
    "            factors.append(i)\n",
    "    if n > 1:\n",
    "        factors.append(n)\n",
    "    return factors\n",
    "a = prime_factors(4567956)\n",
    "from collections import Counter\n",
    "counter = Counter(a)\n",
    "for key,val in counter.items():\n",
    "    print(key, 'to the power ', val)\n",
    "    "
   ]
  },
  {
   "cell_type": "code",
   "execution_count": null,
   "metadata": {},
   "outputs": [],
   "source": []
  }
 ],
 "metadata": {
  "kernelspec": {
   "display_name": "Python 3",
   "language": "python",
   "name": "python3"
  },
  "language_info": {
   "codemirror_mode": {
    "name": "ipython",
    "version": 3
   },
   "file_extension": ".py",
   "mimetype": "text/x-python",
   "name": "python",
   "nbconvert_exporter": "python",
   "pygments_lexer": "ipython3",
   "version": "3.7.1"
  }
 },
 "nbformat": 4,
 "nbformat_minor": 2
}
