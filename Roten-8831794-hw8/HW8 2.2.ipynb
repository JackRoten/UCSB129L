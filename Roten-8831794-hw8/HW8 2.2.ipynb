{
 "cells": [
  {
   "cell_type": "code",
   "execution_count": 1,
   "metadata": {},
   "outputs": [],
   "source": [
    "from math import sqrt\n",
    "import LVector as lv\n",
    "import numpy as np\n",
    "def NRG_P(mass_parent, mass_daughter1, mass_daughter2):\n",
    "    E1 = (mass_parent**2+mass_daughter1**2-mass_daughter2**2)/(2*mass_parent)\n",
    "    E2 = (mass_parent**2+mass_daughter2**2-mass_daughter1**2)/(2*mass_parent)\n",
    "    p1 = p2 = sqrt(E1**2-mass_daughter1**2)\n",
    "    return E1, E2, p1, p2"
   ]
  },
  {
   "cell_type": "code",
   "execution_count": 3,
   "metadata": {},
   "outputs": [
    {
     "name": "stdout",
     "output_type": "stream",
     "text": [
      "3.0207397575757575 2.2592602424242427 2.2549431662458472 2.2549431662458472\n"
     ]
    }
   ],
   "source": [
    "B = 5.28\n",
    "D = 2.01\n",
    "pion = 0.1396\n",
    "\n",
    "BParticleDecayInfo = NRG_P(B, D, pion)\n",
    "E_D = BParticleDecayInfo[0]\n",
    "E_pion = BParticleDecayInfo[1]\n",
    "p_D = BParticleDecayInfo[2]\n",
    "p_pion = BParticleDecayInfo[3]\n",
    "#print (E_D, E_pion, p_D, p_pion) "
   ]
  },
  {
   "cell_type": "code",
   "execution_count": 4,
   "metadata": {},
   "outputs": [
    {
     "ename": "TypeError",
     "evalue": "NRG_P() missing 3 required positional arguments: 'mass_parent', 'mass_daughter1', and 'mass_daughter2'",
     "output_type": "error",
     "traceback": [
      "\u001b[0;31m---------------------------------------------------------------------------\u001b[0m",
      "\u001b[0;31mTypeError\u001b[0m                                 Traceback (most recent call last)",
      "\u001b[0;32m<ipython-input-4-fc38c5e41493>\u001b[0m in \u001b[0;36m<module>\u001b[0;34m\u001b[0m\n\u001b[1;32m      3\u001b[0m \u001b[0mD\u001b[0m \u001b[0;34m=\u001b[0m \u001b[0;36m2.01\u001b[0m\u001b[0;34m\u001b[0m\u001b[0;34m\u001b[0m\u001b[0m\n\u001b[1;32m      4\u001b[0m \u001b[0mpion\u001b[0m \u001b[0;34m=\u001b[0m \u001b[0;36m0.1396\u001b[0m\u001b[0;34m\u001b[0m\u001b[0;34m\u001b[0m\u001b[0m\n\u001b[0;32m----> 5\u001b[0;31m \u001b[0mNRG_P\u001b[0m\u001b[0;34m(\u001b[0m\u001b[0;34m)\u001b[0m\u001b[0;34m\u001b[0m\u001b[0;34m\u001b[0m\u001b[0m\n\u001b[0m",
      "\u001b[0;31mTypeError\u001b[0m: NRG_P() missing 3 required positional arguments: 'mass_parent', 'mass_daughter1', and 'mass_daughter2'"
     ]
    }
   ],
   "source": [
    "## first particle decay\n",
    "B = 5.28\n",
    "D = 2.01\n",
    "pion = 0.1396\n",
    "NRG_P()"
   ]
  },
  {
   "cell_type": "code",
   "execution_count": 5,
   "metadata": {},
   "outputs": [],
   "source": [
    "## second particle decay"
   ]
  },
  {
   "cell_type": "code",
   "execution_count": 6,
   "metadata": {},
   "outputs": [],
   "source": [
    "## thrid particle decay"
   ]
  },
  {
   "cell_type": "code",
   "execution_count": 7,
   "metadata": {},
   "outputs": [],
   "source": [
    "## fourth particle decay\n"
   ]
  },
  {
   "cell_type": "code",
   "execution_count": 12,
   "metadata": {},
   "outputs": [],
   "source": [
    "## creating a tuple containing the particle masses for each decay sequence\n",
    "# access elements by: particel_mass_data[i][j] where i is for row and j is ij element\n",
    "particel_mass_data = ([5.28, 2.01, 0.1396],\n",
    "                      [2.01,1.86,0.1350], \n",
    "                      [])"
   ]
  },
  {
   "cell_type": "code",
   "execution_count": 11,
   "metadata": {},
   "outputs": [
    {
     "data": {
      "text/plain": [
       "5.28"
      ]
     },
     "execution_count": 11,
     "metadata": {},
     "output_type": "execute_result"
    }
   ],
   "source": [
    "particel_mass_data[0][0]"
   ]
  },
  {
   "cell_type": "code",
   "execution_count": null,
   "metadata": {},
   "outputs": [],
   "source": []
  }
 ],
 "metadata": {
  "kernelspec": {
   "display_name": "Python 3",
   "language": "python",
   "name": "python3"
  },
  "language_info": {
   "codemirror_mode": {
    "name": "ipython",
    "version": 3
   },
   "file_extension": ".py",
   "mimetype": "text/x-python",
   "name": "python",
   "nbconvert_exporter": "python",
   "pygments_lexer": "ipython3",
   "version": "3.7.1"
  }
 },
 "nbformat": 4,
 "nbformat_minor": 2
}
