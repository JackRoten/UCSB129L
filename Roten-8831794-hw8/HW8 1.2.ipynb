{
 "cells": [
  {
   "cell_type": "markdown",
   "metadata": {},
   "source": [
    "After background "
   ]
  },
  {
   "cell_type": "code",
   "execution_count": 2,
   "metadata": {},
   "outputs": [],
   "source": [
    "import math\n",
    "import numpy as np\n",
    "import matplotlib.pyplot as plt\n",
    "from scipy import special\n",
    "from scipy.stats import powerlaw\n",
    "import ccHistStuff as cc\n",
    "from iminuit import Minuit"
   ]
  },
  {
   "cell_type": "code",
   "execution_count": 6,
   "metadata": {},
   "outputs": [],
   "source": [
    "mass = np.loadtxt(\"mass.txt\")\n"
   ]
  },
  {
   "cell_type": "code",
   "execution_count": 7,
   "metadata": {},
   "outputs": [
    {
     "data": {
      "image/png": "[encoded data removed]",
      "text/plain": [
       "<Figure size 432x288 with 1 Axes>"
      ]
     },
     "metadata": {
      "needs_background": "light"
     },
     "output_type": "display_data"
    }
   ],
   "source": [
    "# initializing global paramters\n",
    "a=-1/1000\n",
    "b=3\n",
    "mu=155\n",
    "sigma=5\n",
    "\n",
    "# creation of numpy array for x values\n",
    "x_values=np.linspace(-3, 310, 1000)\n",
    "\n",
    "# background function definition \n",
    "def b_pdf(x, a, b):\n",
    "    return a*x+b\n",
    "\n",
    "# signal guassian definition\n",
    "def s_pdf(x, mu, sig):\n",
    "    return np.exp(-np.power(x - mu, 2.) / (2 * np.power(sig, 2.)))\n",
    "\n",
    "# background and signal functions\n",
    "def y(b_pdf, s_pdf):\n",
    "    return b_pdf(x_values,a,b)+s_pdf(x_values,mu,sigma)\n",
    "\n",
    "# plot dem nutter butters!\n",
    "plt.plot(x_values, y(b_pdf, s_pdf))\n",
    "plt.show()"
   ]
  },
  {
   "cell_type": "code",
   "execution_count": null,
   "metadata": {},
   "outputs": [],
   "source": []
  },
  {
   "cell_type": "code",
   "execution_count": 4,
   "metadata": {},
   "outputs": [
    {
     "ename": "NameError",
     "evalue": "name 'shapeSyst' is not defined",
     "output_type": "error",
     "traceback": [
      "\u001b[0;31m---------------------------------------------------------------------------\u001b[0m",
      "\u001b[0;31mNameError\u001b[0m                                 Traceback (most recent call last)",
      "\u001b[0;32m<ipython-input-4-d8c03e612a1f>\u001b[0m in \u001b[0;36m<module>\u001b[0;34m\u001b[0m\n\u001b[1;32m     22\u001b[0m m = Minuit(NLL, S=10., B=500., alpha=0., print_level=1,\n\u001b[1;32m     23\u001b[0m            \u001b[0merrordef\u001b[0m\u001b[0;34m=\u001b[0m\u001b[0;36m0.5\u001b[0m\u001b[0;34m,\u001b[0m \u001b[0merror_S\u001b[0m\u001b[0;34m=\u001b[0m\u001b[0;36m1.0\u001b[0m\u001b[0;34m,\u001b[0m \u001b[0merror_B\u001b[0m\u001b[0;34m=\u001b[0m\u001b[0;36m1.0\u001b[0m\u001b[0;34m,\u001b[0m \u001b[0merror_alpha\u001b[0m\u001b[0;34m=\u001b[0m\u001b[0;36m0.1\u001b[0m\u001b[0;34m,\u001b[0m\u001b[0;34m\u001b[0m\u001b[0;34m\u001b[0m\u001b[0m\n\u001b[0;32m---> 24\u001b[0;31m            fix_alpha=(not shapeSyst))\n\u001b[0m\u001b[1;32m     25\u001b[0m \u001b[0;34m\u001b[0m\u001b[0m\n\u001b[1;32m     26\u001b[0m \u001b[0;31m# Run the fitter\u001b[0m\u001b[0;34m\u001b[0m\u001b[0;34m\u001b[0m\u001b[0;34m\u001b[0m\u001b[0m\n",
      "\u001b[0;31mNameError\u001b[0m: name 'shapeSyst' is not defined"
     ]
    }
   ],
   "source": [
    "def NLL(S,B,alpha): \n",
    "    # alpha=0  ---> use b_pdf\n",
    "    # alpha=1  ---> use b1_pdf\n",
    "    # alpha=-1 ---> use b2_pdf\n",
    "    # (and smoothly interpolates vs. alpha)\n",
    "    if alpha>0:\n",
    "        new_b_pdf = b_pdf + alpha*(b1_pdf-b_pdf)\n",
    "    else:\n",
    "        new_b_pdf = b_pdf - alpha*(b2_pdf-b_pdf)    \n",
    "    # should be already normalized, but make sure\n",
    "    new_b_pdf = new_b_pdf / new_b_pdf.sum()  \n",
    "    temp = d * np.log(S*s_pdf + B*new_b_pdf)\n",
    "    return S + B - temp.sum() + alpha*alpha/2.\n",
    "\n",
    "# Setup the fitter.  S, B, alpha are the initial guesses\n",
    "# print_level=0 --> suppress print of intermediate information \n",
    "# errordef = 0.5   because for NLL 1 sigma errors are  from\n",
    "#                  NLL-NLL(at minimum) = 0.5\n",
    "# error_S, error_B, alpha: are initial steps to look for minimum\n",
    "# We fix alpha=0 if shapeSyst=False\n",
    "\n",
    "\n",
    "m = Minuit(NLL, S=10., B=500., alpha=0., print_level=1,\n",
    "           errordef=0.5, error_S=1.0, error_B=1.0, error_alpha=0.1,\n",
    "           fix_alpha=(not shapeSyst))\n",
    "\n",
    "# Run the fitter\n",
    "m.migrad()\n",
    "m.minos()\n",
    "m.print_param()\n",
    "\n",
    "# Profile scan of the fitted function (NLL).\n",
    "# At each FIXED value of S, fit again for B,\n",
    "# extract the NLL at the minimum, subtract \n",
    "# the NLL at the GLOBAL minimum, and plot it\n",
    "xxx, yyy, _ = m.mnprofile('S', subtract_min=True, bins=100, bound=(0,60))\n",
    "\n",
    "# m.mnprofile does all the work... \n",
    "# Now we just plot the results\n",
    "# deltaNLL = 0.5 (2, 4.5 ) corresponds to 1 (2, 3) sigma\n",
    "\n",
    "fig3, ax3 = plt.subplots()\n",
    "ax3.plot(xxx,yyy,linestyle='solid', color='b')\n",
    "ax3.set_xlim(min(xxx), max(xxx))\n",
    "ax3.set_ylim(0.)\n",
    "ax3.set_xlabel('S')\n",
    "ax3.set_ylabel('deltaNLL')\n",
    "ax3.plot([min(xxx), max(xxx)], [0.5, 0.5], linestyle='dashed', color='red')\n",
    "ax3.plot([min(xxx), max(xxx)], [2.0, 2.0], linestyle='dashed', color='red')\n",
    "ax3.plot([min(xxx), max(xxx)], [4.5, 4.5], linestyle='dashed', color='red')\n",
    "fig3.show()"
   ]
  },
  {
   "cell_type": "markdown",
   "metadata": {},
   "source": [
    "Chi squared fits: d_i is a data point of N numbers and there is an uncertainty to each one: sigma.\n",
    "\n",
    "Chi squared is something that we don't have to do for this problem, but maybe if I understand this method of fitting, the method of Negative Log likelihood fitting will make some more sense. \n",
    "\n",
    "\n",
    "The formula for a chi squared fit allows us to do a few things:\n",
    "1. We want to see small deviations \n",
    "2. We want to give more importance to more precise measurements(smaller sig)\n",
    "3. but why the square? good reason, fucking conventional?\n",
    "4. this assumes that the d_i are not correlated\n",
    "5. w/o sig in the denom or sig const. this would be a least squared fit(do I know this??)\n",
    "\n",
    "the value of chi^2 at the min is meaningful b/c if it's too large we have a bad hypothesis,\n",
    "\n",
    "if too small too good a fit says: overestimated uncertainties or got lucky\n",
    "\n",
    "Rule of thumb: expect chi^2 to be about ndof(que is esto??) for well behaved problem... gottem\n",
    "\n",
    "uncertainty on the alpha_i\n",
    "\n",
    "inverse covariance matrix \n",
    "\n",
    "1. numpy.polyfit.\n",
    "\n",
    "- fitting to polynomials only\n",
    "- the covariance calc is broken in np (early)\n",
    "\n",
    "2. scipy.optimize.curve_fit\n",
    "\n",
    "3. iminuit\n",
    "\n",
    "4. Will write our own simple cas, to see how it works\n",
    "- also best for special cases where speed matters\n",
    "\n",
    "\n",
    "\n",
    "Weve been stresseing over bpdf and spdf. \n",
    "\n",
    "\n",
    "\n",
    "To do an unbinned fit: an \n"
   ]
  },
  {
   "cell_type": "markdown",
   "metadata": {},
   "source": [
    "We want to do an extended NLL as outlined in the notes he placed online.\n",
    "\n",
    "the idea is to dig out the signal for some interesting but rare process out of a sea of background.\n",
    "\n",
    "1. select events with patterns of final state particles/kinematics according to what you signal should look like to distinguish it from background\n",
    "\n",
    "2. most likely this selection will give you both signal and background events\n",
    "\n",
    "3. you then have to \n",
    "- decide whether you have a signal or not\n",
    "- if so, estimate how 'strong' your signal is\n",
    "\n",
    "NLL is the same as chi^2 within a factor of 1/2\n",
    "\n",
    "this will be something we do with minuit\n",
    "\n",
    "1. we define the NLL function. this is done for us!!\n",
    "\n",
    "\n"
   ]
  }
 ],
 "metadata": {
  "kernelspec": {
   "display_name": "Python 3",
   "language": "python",
   "name": "python3"
  },
  "language_info": {
   "codemirror_mode": {
    "name": "ipython",
    "version": 3
   },
   "file_extension": ".py",
   "mimetype": "text/x-python",
   "name": "python",
   "nbconvert_exporter": "python",
   "pygments_lexer": "ipython3",
   "version": "3.7.1"
  }
 },
 "nbformat": 4,
 "nbformat_minor": 2
}
