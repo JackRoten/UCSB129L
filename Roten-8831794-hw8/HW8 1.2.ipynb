{
 "cells": [
  {
   "cell_type": "markdown",
   "metadata": {},
   "source": [
    "After background "
   ]
  },
  {
   "cell_type": "code",
   "execution_count": 8,
   "metadata": {},
   "outputs": [],
   "source": [
    "import math\n",
    "import numpy as np\n",
    "import matplotlib.pyplot as plt\n",
    "from scipy import special\n",
    "from scipy.stats import powerlaw\n",
    "import ccHistStuff as cc\n",
    "from iminuit import Minuit"
   ]
  },
  {
   "cell_type": "code",
   "execution_count": 36,
   "metadata": {},
   "outputs": [
    {
     "data": {
      "image/png": "[encoded data removed]",
      "text/plain": [
       "<Figure size 432x288 with 1 Axes>"
      ]
     },
     "metadata": {
      "needs_background": "light"
     },
     "output_type": "display_data"
    }
   ],
   "source": [
    "mass = np.loadtxt(\"mass.txt\")\n",
    "a=1\n",
    "b=+3\n",
    "def b_pdf(a,b,x):\n",
    "    return -a*x + b\n",
    "\n",
    "#def b1_pdf(a,b,x):\n",
    "#    return -a*x + b\n",
    "\n",
    "#def b2_pdf(a,b,x):\n",
    "#    return -a*x + b\n",
    "\n",
    "mu=155\n",
    "sigma=5\n",
    "\n",
    "x_values=np.linspace(-3, 310, 1000)\n",
    "\n",
    "def gaussian(x, mu, sig):\n",
    "    return np.exp(-np.power(x - mu, 2.) / (2 * np.power(sig, 2.)))\n",
    "\n",
    "\n",
    "def y(b_pdf, gaussian):\n",
    "    return b_pdf(a,b,x_values)+gaussian(x_values,mu,sigma)\n",
    "\n",
    "def y(x):\n",
    "    return -(1/500)*x+3 + np.exp(-np.power(x - 155, 2.) / (2 * np.power(5, 2.)))\n",
    "\n",
    "plt.plot(x_values, y(x_values))\n",
    "\n",
    "plt.show()"
   ]
  },
  {
   "cell_type": "code",
   "execution_count": null,
   "metadata": {},
   "outputs": [],
   "source": []
  },
  {
   "cell_type": "code",
   "execution_count": 4,
   "metadata": {},
   "outputs": [
    {
     "ename": "NameError",
     "evalue": "name 'shapeSyst' is not defined",
     "output_type": "error",
     "traceback": [
      "\u001b[0;31m---------------------------------------------------------------------------\u001b[0m",
      "\u001b[0;31mNameError\u001b[0m                                 Traceback (most recent call last)",
      "\u001b[0;32m<ipython-input-4-d8c03e612a1f>\u001b[0m in \u001b[0;36m<module>\u001b[0;34m\u001b[0m\n\u001b[1;32m     22\u001b[0m m = Minuit(NLL, S=10., B=500., alpha=0., print_level=1,\n\u001b[1;32m     23\u001b[0m            \u001b[0merrordef\u001b[0m\u001b[0;34m=\u001b[0m\u001b[0;36m0.5\u001b[0m\u001b[0;34m,\u001b[0m \u001b[0merror_S\u001b[0m\u001b[0;34m=\u001b[0m\u001b[0;36m1.0\u001b[0m\u001b[0;34m,\u001b[0m \u001b[0merror_B\u001b[0m\u001b[0;34m=\u001b[0m\u001b[0;36m1.0\u001b[0m\u001b[0;34m,\u001b[0m \u001b[0merror_alpha\u001b[0m\u001b[0;34m=\u001b[0m\u001b[0;36m0.1\u001b[0m\u001b[0;34m,\u001b[0m\u001b[0;34m\u001b[0m\u001b[0;34m\u001b[0m\u001b[0m\n\u001b[0;32m---> 24\u001b[0;31m            fix_alpha=(not shapeSyst))\n\u001b[0m\u001b[1;32m     25\u001b[0m \u001b[0;34m\u001b[0m\u001b[0m\n\u001b[1;32m     26\u001b[0m \u001b[0;31m# Run the fitter\u001b[0m\u001b[0;34m\u001b[0m\u001b[0;34m\u001b[0m\u001b[0;34m\u001b[0m\u001b[0m\n",
      "\u001b[0;31mNameError\u001b[0m: name 'shapeSyst' is not defined"
     ]
    }
   ],
   "source": [
    "def NLL(S,B,alpha): \n",
    "    # alpha=0  ---> use b_pdf\n",
    "    # alpha=1  ---> use b1_pdf\n",
    "    # alpha=-1 ---> use b2_pdf\n",
    "    # (and smoothly interpolates vs. alpha)\n",
    "    if alpha>0:\n",
    "        new_b_pdf = b_pdf + alpha*(b1_pdf-b_pdf)\n",
    "    else:\n",
    "        new_b_pdf = b_pdf - alpha*(b2_pdf-b_pdf)    \n",
    "    # should be already normalized, but make sure\n",
    "    new_b_pdf = new_b_pdf / new_b_pdf.sum()  \n",
    "    temp = d * np.log(S*s_pdf + B*new_b_pdf)\n",
    "    return S + B - temp.sum() + alpha*alpha/2.\n",
    "\n",
    "# Setup the fitter.  S, B, alpha are the initial guesses\n",
    "# print_level=0 --> suppress print of intermediate information \n",
    "# errordef = 0.5   because for NLL 1 sigma errors are  from\n",
    "#                  NLL-NLL(at minimum) = 0.5\n",
    "# error_S, error_B, alpha: are initial steps to look for minimum\n",
    "# We fix alpha=0 if shapeSyst=False\n",
    "\n",
    "\n",
    "m = Minuit(NLL, S=10., B=500., alpha=0., print_level=1,\n",
    "           errordef=0.5, error_S=1.0, error_B=1.0, error_alpha=0.1,\n",
    "           fix_alpha=(not shapeSyst))\n",
    "\n",
    "# Run the fitter\n",
    "m.migrad()\n",
    "m.minos()\n",
    "m.print_param()\n",
    "\n",
    "# Profile scan of the fitted function (NLL).\n",
    "# At each FIXED value of S, fit again for B,\n",
    "# extract the NLL at the minimum, subtract \n",
    "# the NLL at the GLOBAL minimum, and plot it\n",
    "xxx, yyy, _ = m.mnprofile('S', subtract_min=True, bins=100, bound=(0,60))\n",
    "\n",
    "# m.mnprofile does all the work... \n",
    "# Now we just plot the results\n",
    "# deltaNLL = 0.5 (2, 4.5 ) corresponds to 1 (2, 3) sigma\n",
    "\n",
    "fig3, ax3 = plt.subplots()\n",
    "ax3.plot(xxx,yyy,linestyle='solid', color='b')\n",
    "ax3.set_xlim(min(xxx), max(xxx))\n",
    "ax3.set_ylim(0.)\n",
    "ax3.set_xlabel('S')\n",
    "ax3.set_ylabel('deltaNLL')\n",
    "ax3.plot([min(xxx), max(xxx)], [0.5, 0.5], linestyle='dashed', color='red')\n",
    "ax3.plot([min(xxx), max(xxx)], [2.0, 2.0], linestyle='dashed', color='red')\n",
    "ax3.plot([min(xxx), max(xxx)], [4.5, 4.5], linestyle='dashed', color='red')\n",
    "fig3.show()"
   ]
  },
  {
   "cell_type": "code",
   "execution_count": null,
   "metadata": {},
   "outputs": [],
   "source": []
  }
 ],
 "metadata": {
  "kernelspec": {
   "display_name": "Python 3",
   "language": "python",
   "name": "python3"
  },
  "language_info": {
   "codemirror_mode": {
    "name": "ipython",
    "version": 3
   },
   "file_extension": ".py",
   "mimetype": "text/x-python",
   "name": "python",
   "nbconvert_exporter": "python",
   "pygments_lexer": "ipython3",
   "version": "3.7.1"
  }
 },
 "nbformat": 4,
 "nbformat_minor": 2
}
