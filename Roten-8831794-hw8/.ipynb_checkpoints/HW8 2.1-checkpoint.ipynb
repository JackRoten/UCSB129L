{
 "cells": [
  {
   "cell_type": "markdown",
   "metadata": {},
   "source": [
    "Particle at rest will decay into two\n",
    "\n",
    "we pick a direction for a single particle, \n",
    "a S=0(no prefered direction in space)\n",
    "\n",
    "in 3D talk about solid angle. \n",
    "the area on the top of sphere. \n",
    "\n",
    "for 2d will have pdf of theta , C*Dtheta\n",
    "3D const in omega. \n",
    "\n",
    "in rest frame, if no preffered direction in space \n",
    "\n",
    "dir of paricles at rest in opposite directions, particles decay \n",
    "\n",
    "costheta is random\n",
    "phi is random between 0 and 2*pi\n",
    "\n",
    "A to BC opposite dir\n",
    "B to DE goes in some directions \n",
    "relative velocity between S and S' boost to B frame\n",
    "\n",
    "must first rotate our decay to z axis\n",
    "\n",
    "1. rotate to z figure out how to use this \n",
    "2. boost "
   ]
  },
  {
   "cell_type": "code",
   "execution_count": 106,
   "metadata": {},
   "outputs": [],
   "source": [
    "import LVector as lv\n",
    "import numpy as np\n",
    "\n",
    "a = lv.LVector([ 20., 4., 2., 3. ])"
   ]
  },
  {
   "cell_type": "code",
   "execution_count": 107,
   "metadata": {},
   "outputs": [],
   "source": [
    "beta1 = [0.1, 0.2, 0.3]\n",
    "a.boost(beta1)"
   ]
  },
  {
   "cell_type": "code",
   "execution_count": 108,
   "metadata": {},
   "outputs": [
    {
     "name": "stdout",
     "output_type": "stream",
     "text": [
      "(19.733397496229234,1.9384567819729837,-2.123086436054033,-3.184629654081049)\n"
     ]
    }
   ],
   "source": [
    "print(a)"
   ]
  },
  {
   "cell_type": "code",
   "execution_count": 110,
   "metadata": {},
   "outputs": [
    {
     "data": {
      "text/plain": [
       "[[1.0, 0.0, 0.0],\n",
       " [0.0, 6.123233995736766e-17, -1.0],\n",
       " [0.0, 1.0, 6.123233995736766e-17]]"
      ]
     },
     "execution_count": 110,
     "metadata": {},
     "output_type": "execute_result"
    }
   ],
   "source": [
    "a.rotate_by_axis([1.,0,0],np.pi/2)"
   ]
  },
  {
   "cell_type": "code",
   "execution_count": 113,
   "metadata": {},
   "outputs": [
    {
     "ename": "TypeError",
     "evalue": "'LVector' object is not subscriptable",
     "output_type": "error",
     "traceback": [
      "\u001b[0;31m---------------------------------------------------------------------------\u001b[0m",
      "\u001b[0;31mTypeError\u001b[0m                                 Traceback (most recent call last)",
      "\u001b[0;32m<ipython-input-113-629cda794d87>\u001b[0m in \u001b[0;36m<module>\u001b[0;34m\u001b[0m\n\u001b[0;32m----> 1\u001b[0;31m \u001b[0ma\u001b[0m\u001b[0;34m.\u001b[0m\u001b[0mrotate_by_axis\u001b[0m\u001b[0;34m(\u001b[0m\u001b[0ma\u001b[0m\u001b[0;34m[\u001b[0m\u001b[0;36m1\u001b[0m\u001b[0;34m:\u001b[0m \u001b[0;34m]\u001b[0m\u001b[0;34m,\u001b[0m\u001b[0mnp\u001b[0m\u001b[0;34m.\u001b[0m\u001b[0mpi\u001b[0m\u001b[0;34m/\u001b[0m\u001b[0;36m2\u001b[0m\u001b[0;34m)\u001b[0m\u001b[0;34m\u001b[0m\u001b[0;34m\u001b[0m\u001b[0m\n\u001b[0m",
      "\u001b[0;31mTypeError\u001b[0m: 'LVector' object is not subscriptable"
     ]
    }
   ],
   "source": [
    "a.rotate_by_axis(a[1: ],np.pi/2)"
   ]
  },
  {
   "cell_type": "markdown",
   "metadata": {},
   "source": [
    "we want to be able to rotate the vector we give for the Lvecotor to a position where only Z contains the magnitude of the vector. I beleive the time component will not change. It is important that the rotation matrix is normalized. \n",
    "\n",
    "decayChains makes a few assumptions and expects a few process:\n",
    "\n",
    "question what should our pickle file contain??\n",
    "the pickle file should contain it should contain info r"
   ]
  },
  {
   "cell_type": "markdown",
   "metadata": {},
   "source": [
    "Two body decays:\n",
    "M = \n",
    "m_1 = \n",
    "M_2 = \n",
    "\n",
    "(E) This is given, but I am not sure how this correspondes to the the masses. But it is something I need to consider.\n",
    "4 vector E is energy and 3 momentum \n",
    "\n",
    "\n",
    "maybe use p (momentum vector)\n",
    "and use E value\n",
    "\n",
    "as for the "
   ]
  },
  {
   "cell_type": "markdown",
   "metadata": {},
   "source": [
    "A particle decaying into 2 daughter ones: we can just add the momentums together. \n",
    "\n",
    "For a process where there are 2 particles decaying from a parent we can just say: \n",
    "\n",
    "1. Momentums should be the same\n",
    "2. Energies will be different\n",
    "Okay lets calculate those values\n"
   ]
  },
  {
   "cell_type": "code",
   "execution_count": 8,
   "metadata": {},
   "outputs": [],
   "source": [
    "from math import sqrt\n",
    "def NRG_P(mass_parent, mass_daughter1, mass_daughter2):\n",
    "    E1 = (mass_parent**2+mass_daughter1**2-mass_daughter2**2)/(2*mass_parent)\n",
    "    E2 = (mass_parent**2+mass_daughter2**2-mass_daughter1**2)/(2*mass_parent)\n",
    "    p1 = p2 = sqrt(E1**2-mass_daughter1**2)\n",
    "    return E1, E2, p1, p2"
   ]
  },
  {
   "cell_type": "code",
   "execution_count": 9,
   "metadata": {},
   "outputs": [
    {
     "data": {
      "text/plain": [
       "(3.0207397575757575,\n",
       " 2.2592602424242427,\n",
       " 2.2549431662458472,\n",
       " 2.2549431662458472)"
      ]
     },
     "execution_count": 9,
     "metadata": {},
     "output_type": "execute_result"
    }
   ],
   "source": [
    "B = 5.28\n",
    "D = 2.01\n",
    "pion = 0.1396\n",
    "\n",
    "NRG_P(B, D, pion)\n"
   ]
  },
  {
   "cell_type": "markdown",
   "metadata": {},
   "source": []
  }
 ],
 "metadata": {
  "kernelspec": {
   "display_name": "Python 3",
   "language": "python",
   "name": "python3"
  },
  "language_info": {
   "codemirror_mode": {
    "name": "ipython",
    "version": 3
   },
   "file_extension": ".py",
   "mimetype": "text/x-python",
   "name": "python",
   "nbconvert_exporter": "python",
   "pygments_lexer": "ipython3",
   "version": "3.7.1"
  }
 },
 "nbformat": 4,
 "nbformat_minor": 2
}
