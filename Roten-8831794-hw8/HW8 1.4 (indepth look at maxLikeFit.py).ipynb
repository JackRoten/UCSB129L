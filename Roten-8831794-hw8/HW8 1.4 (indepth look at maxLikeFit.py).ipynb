{
 "cells": [
  {
   "cell_type": "code",
   "execution_count": 3,
   "metadata": {},
   "outputs": [],
   "source": [
    "import numpy as np\n",
    "import matplotlib.pyplot as plt\n",
    "from iminuit import Minuit"
   ]
  },
  {
   "cell_type": "code",
   "execution_count": 4,
   "metadata": {},
   "outputs": [],
   "source": [
    "# Flag to include/exclude the systematics \n",
    "# on the background shape\n",
    "shapeSyst = True"
   ]
  },
  {
   "cell_type": "code",
   "execution_count": 5,
   "metadata": {},
   "outputs": [],
   "source": [
    "npzfile  = np.load(\"histForMinuitFit.npz\")\n",
    "b_pdf    = npzfile['b_pdf']\n",
    "b1_pdf   = npzfile['b1_pdf']\n",
    "b2_pdf   = npzfile['b2_pdf']\n",
    "s_pdf    = npzfile['s_pdf']\n",
    "d        = npzfile['d']\n",
    "binCen   = npzfile['binCen']\n",
    "binEdges = npzfile['binEdges']"
   ]
  },
  {
   "cell_type": "code",
   "execution_count": 6,
   "metadata": {},
   "outputs": [],
   "source": [
    "b_pdf  = b_pdf  / b_pdf.sum()\n",
    "b1_pdf = b1_pdf / b1_pdf.sum()\n",
    "b2_pdf = b2_pdf / b2_pdf.sum()\n",
    "s_pdf  = s_pdf  / s_pdf.sum()\n"
   ]
  },
  {
   "cell_type": "code",
   "execution_count": 7,
   "metadata": {},
   "outputs": [
    {
     "name": "stderr",
     "output_type": "stream",
     "text": [
      "/home/jack/miniconda3/lib/python3.7/site-packages/matplotlib/figure.py:445: UserWarning: Matplotlib is currently using module://ipykernel.pylab.backend_inline, which is a non-GUI backend, so cannot show the figure.\n",
      "  % get_backend())\n"
     ]
    },
    {
     "data": {
      "image/png": "[encoded data removed]",
      "text/plain": [
       "<Figure size 432x288 with 1 Axes>"
      ]
     },
     "metadata": {
      "needs_background": "light"
     },
     "output_type": "display_data"
    },
    {
     "data": {
      "image/png": "[encoded data removed]",
      "text/plain": [
       "<Figure size 432x288 with 1 Axes>"
      ]
     },
     "metadata": {
      "needs_background": "light"
     },
     "output_type": "display_data"
    }
   ],
   "source": [
    "#%%capture #use to suppress the output of a cell\n",
    "f1, a1 = plt.subplots()\n",
    "a1.hist(binCen,binEdges,weights=b_pdf, histtype='step', log=True, color='blue')\n",
    "a1.hist(binCen,binEdges,weights=b1_pdf, histtype='step', linestyle='dashed', log=True, color='red')\n",
    "a1.hist(binCen,binEdges,weights=b2_pdf, histtype='step', linestyle='dashed', log=True, color='green')\n",
    "a1.set_xlim(binEdges[0], binEdges[-1])\n",
    "f2,a2 = plt.subplots()\n",
    "a1.set_title(\"Background PDF\")\n",
    "a2.hist(binCen,binEdges,weights=s_pdf, histtype='step', log=True, color='red')\n",
    "a2.set_xlim(binEdges[0], binEdges[-1])\n",
    "a2.set_title(\"Signal PDF\")\n",
    "a1.set_xlabel(\"Boosted Decision Tree Score\")\n",
    "a1.set_ylabel(\"Fraction of events\")\n",
    "a2.set_xlabel(\"Boosted Decision Tree Score\")\n",
    "a2.set_ylabel(\"Fraction of events\")\n",
    "f1.show()\n",
    "f2.show()"
   ]
  },
  {
   "cell_type": "code",
   "execution_count": 8,
   "metadata": {},
   "outputs": [],
   "source": [
    "%%capture\n",
    "# plot the data as we\n",
    "f4,a4 = plt.subplots()\n",
    "c4, b4, _ = a4.hist(binCen, binEdges, weights=d, log=True, color='black', histtype='step')\n",
    "a4.set_xlim(b4[0], b4[-1])\n",
    "a4.set_xlabel(\"Boosted Decision Tree Score\")\n",
    "a4.set_ylabel(\"Number of events\")\n",
    "a4.set_title(\"(Pseudo) Data\")\n",
    "f4.show()"
   ]
  },
  {
   "cell_type": "code",
   "execution_count": 9,
   "metadata": {},
   "outputs": [
    {
     "ename": "NameError",
     "evalue": "name 'new_b_pdf' is not defined",
     "output_type": "error",
     "traceback": [
      "\u001b[0;31m---------------------------------------------------------------------------\u001b[0m",
      "\u001b[0;31mNameError\u001b[0m                                 Traceback (most recent call last)",
      "\u001b[0;32m<ipython-input-9-f19d0177fe21>\u001b[0m in \u001b[0;36m<module>\u001b[0;34m\u001b[0m\n\u001b[0;32m----> 1\u001b[0;31m \u001b[0mnew_b_pdf\u001b[0m \u001b[0;34m=\u001b[0m \u001b[0mnew_b_pdf\u001b[0m \u001b[0;34m/\u001b[0m \u001b[0mnew_b_pdf\u001b[0m\u001b[0;34m.\u001b[0m\u001b[0msum\u001b[0m\u001b[0;34m(\u001b[0m\u001b[0;34m)\u001b[0m\u001b[0;34m\u001b[0m\u001b[0;34m\u001b[0m\u001b[0m\n\u001b[0m\u001b[1;32m      2\u001b[0m \u001b[0;34m\u001b[0m\u001b[0m\n\u001b[1;32m      3\u001b[0m \u001b[0;32mdef\u001b[0m \u001b[0mNLL\u001b[0m\u001b[0;34m(\u001b[0m\u001b[0mS\u001b[0m\u001b[0;34m,\u001b[0m\u001b[0mB\u001b[0m\u001b[0;34m,\u001b[0m\u001b[0malpha\u001b[0m\u001b[0;34m)\u001b[0m\u001b[0;34m:\u001b[0m\u001b[0;34m\u001b[0m\u001b[0;34m\u001b[0m\u001b[0m\n\u001b[1;32m      4\u001b[0m \u001b[0;34m\u001b[0m\u001b[0m\n\u001b[1;32m      5\u001b[0m     \u001b[0;31m# should be already normalized, but make sure\u001b[0m\u001b[0;34m\u001b[0m\u001b[0;34m\u001b[0m\u001b[0;34m\u001b[0m\u001b[0m\n",
      "\u001b[0;31mNameError\u001b[0m: name 'new_b_pdf' is not defined"
     ]
    }
   ],
   "source": [
    "new_b_pdf = new_b_pdf / new_b_pdf.sum() \n",
    "\n",
    "def NLL(S,B,alpha):\n",
    "   \n",
    "    # should be already normalized, but make sure\n",
    "     \n",
    "    temp = d * np.log(S*s_pdf + B*new_b_pdf)\n",
    "    return S + B - temp.sum() + alpha*alpha/2.\n"
   ]
  },
  {
   "cell_type": "code",
   "execution_count": 10,
   "metadata": {},
   "outputs": [
    {
     "ename": "NameError",
     "evalue": "name 'new_b_pdf' is not defined",
     "output_type": "error",
     "traceback": [
      "\u001b[0;31m---------------------------------------------------------------------------\u001b[0m",
      "\u001b[0;31mNameError\u001b[0m                                 Traceback (most recent call last)",
      "\u001b[0;32m<ipython-input-10-0badd768a701>\u001b[0m in \u001b[0;36m<module>\u001b[0;34m\u001b[0m\n\u001b[0;32m----> 1\u001b[0;31m \u001b[0mnew_b_pdf\u001b[0m\u001b[0;34m\u001b[0m\u001b[0;34m\u001b[0m\u001b[0m\n\u001b[0m",
      "\u001b[0;31mNameError\u001b[0m: name 'new_b_pdf' is not defined"
     ]
    }
   ],
   "source": [
    "new_b_pdf\n"
   ]
  },
  {
   "cell_type": "code",
   "execution_count": 12,
   "metadata": {},
   "outputs": [],
   "source": [
    "m = Minuit(NLL, S=10., B=500., alpha=0., print_level=1,\n",
    "           errordef=0.5, error_S=1.0, error_B=1.0, error_alpha=0.1,\n",
    "           fix_alpha=(not shapeSyst))\n"
   ]
  },
  {
   "cell_type": "code",
   "execution_count": 31,
   "metadata": {},
   "outputs": [
    {
     "data": {
      "text/html": [
       "<table>\n",
       "    <tr>\n",
       "        <td><a href=\"#\" onclick=\"$('#vZETbFvbfd').toggle()\">+</a></td>\n",
       "        <td title=\"Variable name\">Name</td>\n",
       "        <td title=\"Value of parameter\">Value</td>\n",
       "        <td title=\"Hesse error\">Hesse Error</td>\n",
       "        <td title=\"Minos lower error\">Minos Error-</td>\n",
       "        <td title=\"Minos upper error\">Minos Error+</td>\n",
       "        <td title=\"Lower limit of the parameter\">Limit-</td>\n",
       "        <td title=\"Upper limit of the parameter\">Limit+</td>\n",
       "        <td title=\"Is the parameter fixed in the fit\">Fixed?</td>\n",
       "    </tr>\n",
       "    <tr>\n",
       "        <td>0</td>\n",
       "        <td>S</td>\n",
       "        <td>19.9139</td>\n",
       "        <td>12.0961</td>\n",
       "        <td>-11.0101</td>\n",
       "        <td>12.6233</td>\n",
       "        <td></td>\n",
       "        <td></td>\n",
       "        <td>No</td>\n",
       "    </tr>\n",
       "    <tr>\n",
       "        <td>1</td>\n",
       "        <td>B</td>\n",
       "        <td>705.087</td>\n",
       "        <td>28.7901</td>\n",
       "        <td>-28.4336</td>\n",
       "        <td>29.0384</td>\n",
       "        <td></td>\n",
       "        <td></td>\n",
       "        <td>No</td>\n",
       "    </tr>\n",
       "    <tr>\n",
       "        <td>2</td>\n",
       "        <td>alpha</td>\n",
       "        <td>-0.413695</td>\n",
       "        <td>0.74877</td>\n",
       "        <td>-0.746364</td>\n",
       "        <td>0.768456</td>\n",
       "        <td></td>\n",
       "        <td></td>\n",
       "        <td>No</td>\n",
       "    </tr>\n",
       "</table>\n",
       "<pre id=\"vZETbFvbfd\" style=\"display:none;\">\n",
       "<textarea rows=\"12\" cols=\"50\" onclick=\"this.select()\" readonly>\n",
       "\\begin{tabular}{|c|r|r|r|r|r|r|r|c|}\n",
       "\\hline\n",
       " & Name & Value & Hesse Error & Minos Error- & Minos Error+ & Limit- & Limit+ & Fixed?\\\\\n",
       "\\hline\n",
       "0 & S & 19.9139 & 12.0961 & -11.0101 & 12.6233 &  &  & No\\\\\n",
       "\\hline\n",
       "1 & B & 705.087 & 28.7901 & -28.4336 & 29.0384 &  &  & No\\\\\n",
       "\\hline\n",
       "2 & $\\alpha$ & -0.413695 & 0.74877 & -0.746364 & 0.768456 &  &  & No\\\\\n",
       "\\hline\n",
       "\\end{tabular}\n",
       "</textarea>\n",
       "</pre>"
      ]
     },
     "metadata": {},
     "output_type": "display_data"
    }
   ],
   "source": [
    "# Run the fitter\n",
    "#m.migrad()\n",
    "#m.minos()\n",
    "m.print_param()"
   ]
  },
  {
   "cell_type": "code",
   "execution_count": 15,
   "metadata": {},
   "outputs": [],
   "source": [
    "# Profile scan of the fitted function (NLL).\n",
    "# At each FIXED value of S, fit again for B,\n",
    "# extract the NLL at the minimum, subtract \n",
    "# the NLL at the GLOBAL minimum, and plot it\n",
    "xxx, yyy, _ = m.mnprofile('S', subtract_min=True, bins=100, bound=(0,60))\n",
    "\n"
   ]
  },
  {
   "cell_type": "code",
   "execution_count": 16,
   "metadata": {},
   "outputs": [
    {
     "data": {
      "image/png": "[encoded data removed]",
      "text/plain": [
       "<Figure size 432x288 with 1 Axes>"
      ]
     },
     "metadata": {
      "needs_background": "light"
     },
     "output_type": "display_data"
    }
   ],
   "source": [
    "/# m.mnprofile does all the work... \n",
    "# Now we just plot the results\n",
    "# deltaNLL = 0.5 (2, 4.5 ) corresponds to 1 (2, 3) sigma\n",
    "fig3, ax3 = plt.subplots()\n",
    "ax3.plot(xxx,yyy,linestyle='solid', color='b')\n",
    "ax3.set_xlim(min(xxx), max(xxx))\n",
    "ax3.set_ylim(0.)\n",
    "ax3.set_xlabel('S')\n",
    "ax3.set_ylabel('deltaNLL')\n",
    "ax3.plot([min(xxx), max(xxx)], [0.5, 0.5], linestyle='dashed', color='red')\n",
    "ax3.plot([min(xxx), max(xxx)], [2.0, 2.0], linestyle='dashed', color='red')\n",
    "ax3.plot([min(xxx), max(xxx)], [4.5, 4.5], linestyle='dashed', color='red')\n",
    "fig3.show()"
   ]
  },
  {
   "cell_type": "code",
   "execution_count": 17,
   "metadata": {},
   "outputs": [],
   "source": [
    "fittedB = m.values['B']\n",
    "fittedS = m.values['S']\n",
    "fitteda = m.values['alpha']\n",
    "if fitteda>0:\n",
    "    bf_pdf = b_pdf + fitteda*(b1_pdf-b_pdf)\n",
    "else:\n",
    "    bf_pdf = b_pdf - fitteda*(b2_pdf-b_pdf)\n",
    "bf_pdf = bf_pdf / bf_pdf.sum()"
   ]
  },
  {
   "cell_type": "code",
   "execution_count": 19,
   "metadata": {},
   "outputs": [],
   "source": [
    "# Then plot stacked histograms of S and B\n",
    "# lists with the data, colors, and labels of the two hist \n",
    "blah   = [binCen, binCen]\n",
    "colors = ['blue', 'red']\n",
    "names  = ['Background', 'Signal']\n",
    "w2     = [fittedB*bf_pdf, fittedS*s_pdf]"
   ]
  },
  {
   "cell_type": "code",
   "execution_count": 33,
   "metadata": {},
   "outputs": [
    {
     "name": "stdout",
     "output_type": "stream",
     "text": [
      "Enter something to quit\n"
     ]
    },
    {
     "data": {
      "text/plain": [
       "''"
      ]
     },
     "execution_count": 33,
     "metadata": {},
     "output_type": "execute_result"
    },
    {
     "data": {
      "image/png": "[encoded data removed]",
      "text/plain": [
       "<Figure size 432x288 with 1 Axes>"
      ]
     },
     "metadata": {
      "needs_background": "light"
     },
     "output_type": "display_data"
    }
   ],
   "source": [
    "fig42, ax42 = plt.subplots()\n",
    "ax42.hist(blah, binEdges, histtype='stepfilled', log=False,\n",
    "          color=colors, stacked='True', label=names, weights=w2, alpha=0.4)\n",
    "# We will want some of these error bars later on. \n",
    "# maybe try to put these in on other histogram stuff?\n",
    "ax42.errorbar(binCen, d, yerr=np.sqrt(d), linestyle='none', marker='o', \n",
    "              color='black', markersize=4)\n",
    "ax42.set_ylim(0.1)\n",
    "ax42.set_xlim(binEdges[0], binEdges[-1])\n",
    "ax42.legend()\n",
    "ax42.set_ylabel(\"Number of events\")\n",
    "fig42.show()\n",
    "input('Enter something to quit')"
   ]
  },
  {
   "cell_type": "code",
   "execution_count": null,
   "metadata": {},
   "outputs": [],
   "source": []
  }
 ],
 "metadata": {
  "kernelspec": {
   "display_name": "Python 3",
   "language": "python",
   "name": "python3"
  },
  "language_info": {
   "codemirror_mode": {
    "name": "ipython",
    "version": 3
   },
   "file_extension": ".py",
   "mimetype": "text/x-python",
   "name": "python",
   "nbconvert_exporter": "python",
   "pygments_lexer": "ipython3",
   "version": "3.7.1"
  }
 },
 "nbformat": 4,
 "nbformat_minor": 2
}
