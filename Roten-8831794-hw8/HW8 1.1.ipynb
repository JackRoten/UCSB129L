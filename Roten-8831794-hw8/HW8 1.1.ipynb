{
 "cells": [
  {
   "cell_type": "markdown",
   "metadata": {},
   "source": [
    "Want to fit this data set to the sum of two contributions: \n",
    "\n",
    "1. a smooth background component \n",
    "2. a signal component for a particle A\n",
    "\n",
    "background pdf is unkown but it must be a smoothly falling distribution. \n",
    "\n",
    "We can't do a chi^2 fit, not enough reasonable sized bins. \n",
    "\n",
    "We will do a log-likelihood fit to account for Poisson statistics.\n",
    "\n",
    "Perform an unbinned log-likelihood fit because our bins are unreasonable size and squeezing a guassian into 2-3 bins loses a lot of information...(by information what do you mean?)\n",
    "\n",
    "--> \"likelihood\" means that you are trying to find the optimal value for the mean or standard deviation for a ditribution given a bunch of observed measurements.\n",
    "\n",
    "\n"
   ]
  },
  {
   "cell_type": "markdown",
   "metadata": {},
   "source": [
    "Do we create a pdf using numpy logspace?\n"
   ]
  },
  {
   "cell_type": "markdown",
   "metadata": {},
   "source": [
    "With NLL"
   ]
  },
  {
   "cell_type": "markdown",
   "metadata": {},
   "source": [
    "office hours:\n",
    "\n",
    "piled up events res of 5 \n",
    "\n",
    "mass\n",
    "between 100 and 200:\n",
    "\n",
    "There are two probabilty d f guassian \n",
    "\n",
    "parameters from line from data.\n",
    "signal\n",
    "backgournd\n",
    "two parameters\n",
    "\n",
    "an exponential has one parameter and must be normalized\n",
    "unknown parameters: S, B, alpha...\n",
    "\n",
    "\n",
    "look at testfit_v3.py print level log likelyhoh 0.5 some parameter...\n",
    "\n"
   ]
  },
  {
   "cell_type": "markdown",
   "metadata": {},
   "source": [
    "On the nature of minuit. we should be able to input the a made up gaussian.  \n",
    "\n",
    "NLL = S + B - sum(log\n",
    "\n",
    "pass in data and model.\n",
    "\n",
    "S*s(x) = B*b(x)\n",
    "\n",
    "from decided functions we feed minuit the parameters \n",
    "\n",
    "part of systematic uncertainty:\n",
    "so it's subjective: \n",
    "\n",
    "S referes to the number of counts we get from our histogram\n",
    "\n",
    "b referes to the number of counts we get from the decided backround we have \n",
    "\n",
    "from what I understand we:\n",
    "\n",
    "1. pass in an array of data into iminuit\n",
    "2. we pass in a background pdf define into iminuit\n",
    "3. we pass in a signal pdf we define into iminuit\n",
    "\n",
    "\n"
   ]
  },
  {
   "cell_type": "code",
   "execution_count": 5,
   "metadata": {},
   "outputs": [],
   "source": [
    "import math\n",
    "import numpy as np\n",
    "import matplotlib.pyplot as plt\n",
    "from scipy import special\n",
    "import ccHistStuff as cc\n",
    "from iminuit import Minuit"
   ]
  },
  {
   "cell_type": "code",
   "execution_count": 6,
   "metadata": {},
   "outputs": [
    {
     "name": "stdout",
     "output_type": "stream",
     "text": [
      "Carriage return to continue....\n"
     ]
    },
    {
     "data": {
      "text/plain": [
       "''"
      ]
     },
     "execution_count": 6,
     "metadata": {},
     "output_type": "execute_result"
    },
    {
     "data": {
      "image/png": "[encoded data removed]",
      "text/plain": [
       "<Figure size 432x288 with 1 Axes>"
      ]
     },
     "metadata": {
      "needs_background": "light"
     },
     "output_type": "display_data"
    }
   ],
   "source": [
    "mass = np.loadtxt(\"mass.txt\")\n",
    "\n",
    "# How many do we have, what is the max and min\n",
    "#    print( len(mass) )\n",
    "#    m1 = np.amax(mass)\n",
    "#    m2 = np.amin(mass)\n",
    "#    print(m1,m2)\n",
    "# From te tests above, looks like 200 entries\n",
    "# between 100 and 200?\n",
    "# A reasonable binning may be 20 bisn\n",
    "x1 = 100.\n",
    "x2 = 200.\n",
    "nb = 20\n",
    "bins = np.linspace(x1, x2, nb+1)\n",
    "\n",
    "# I think we want to replace the .npz with the mass.txt file, need mass and\n",
    "# x1, x2, nb, bins\n",
    "\n",
    "# plot now\n",
    "f, a = plt.subplots()\n",
    "c, b, _ = a.hist(mass, bins, histtype='step')\n",
    "cc.statBox(a, mass, b)\n",
    "a.set_xlim(b[0], b[-1])\n",
    "a.tick_params(\"both\", direction='in', length=10, right=True)\n",
    "a.set_xticks(b, minor=True)\n",
    "a.tick_params(\"both\", direction='in', length=7, right=True, which='minor')\n",
    "f.show()\n",
    "\n",
    "input(\"Carriage return to continue....\")\n",
    "\n",
    "#Doing the NLL fit\n"
   ]
  },
  {
   "cell_type": "code",
   "execution_count": 3,
   "metadata": {},
   "outputs": [
    {
     "ename": "SyntaxError",
     "evalue": "invalid syntax (<ipython-input-3-552ee01bd8ce>, line 1)",
     "output_type": "error",
     "traceback": [
      "\u001b[0;36m  File \u001b[0;32m\"<ipython-input-3-552ee01bd8ce>\"\u001b[0;36m, line \u001b[0;32m1\u001b[0m\n\u001b[0;31m    def b_pdf:\u001b[0m\n\u001b[0m             ^\u001b[0m\n\u001b[0;31mSyntaxError\u001b[0m\u001b[0;31m:\u001b[0m invalid syntax\n"
     ]
    }
   ],
   "source": [
    "def b_pdf(x):\n",
    "    return -x:\n",
    "\n",
    "def b1_pdf(x):\n",
    "    return exp(-x)\n",
    "\n",
    "def b2_pdf(x):\n",
    "    return exp(-xx**2)\n",
    "\n",
    "def s_pdf:\n",
    "    return \n",
    "\n",
    "def NLL(S,B,alpha):#wtf is alpha and S and B are \n",
    "    \n",
    "    # alpha=0  ---> use b_pdf\n",
    "    # alpha=1  ---> use b1_pdf\n",
    "    # alpha=-1 ---> use b2_pdf\n",
    "    # (and smoothly interpolates vs. alpha)\n",
    "    if alpha>0:\n",
    "        new_b_pdf = b_pdf + alpha*(b1_pdf-b_pdf)\n",
    "    else:\n",
    "        new_b_pdf = b_pdf - alpha*(b2_pdf-b_pdf)    \n",
    "    # should be already normalized, but make sure\n",
    "    new_b_pdf = new_b_pdf / new_b_pdf.sum()  \n",
    "    temp = d * np.log(S*s_pdf + B*new_b_pdf)\n",
    "    return S + B - temp.sum() + alpha*alpha/2.\n",
    "\n",
    "# Setup the fitter.  S, B, alpha are the initial guesses"
   ]
  },
  {
   "cell_type": "markdown",
   "metadata": {},
   "source": [
    "1. powerlog\n",
    "2. line\n",
    "3. \n",
    "4. code NLL by calling in minuit? \n",
    "\n",
    "code function f\n",
    "for the test fit my chi^2 in testFitv_3.py replace with NLL\n",
    "\n"
   ]
  },
  {
   "cell_type": "code",
   "execution_count": 8,
   "metadata": {},
   "outputs": [
    {
     "name": "stdout",
     "output_type": "stream",
     "text": [
      "Value of minimized function at minimum =  3.636363636363642\n",
      "Estimated distance to minimum          =  3.52768560752106e-24\n",
      "Is the fit valid =  True\n",
      "Has covariance   =  True\n",
      "---------------\n",
      "Parameter name  =  slope\n",
      "Parameter value =  0.980000000000013\n",
      "Parameter error =  0.05472659578979979\n",
      " \n",
      "Parameter name  =  offset\n",
      "Parameter value =  0.029090909090935403\n",
      "Parameter error =  0.11116940945760118\n",
      " \n",
      "Cov(0,0) = 0.002995\n",
      "Cov(0,1) = -0.005745\n",
      "Cov(1,0) = -0.005745\n",
      "Cov(1,1) = 0.012359\n"
     ]
    },
    {
     "data": {
      "text/html": [
       "<table>\n",
       "    <tr>\n",
       "        <td><a href=\"#\" onclick=\"$('#jBxBMlGmkZ').toggle()\">+</a></td>\n",
       "        <td title=\"Variable name\">Name</td>\n",
       "        <td title=\"Value of parameter\">Value</td>\n",
       "        <td title=\"Hesse error\">Hesse Error</td>\n",
       "        <td title=\"Minos lower error\">Minos Error-</td>\n",
       "        <td title=\"Minos upper error\">Minos Error+</td>\n",
       "        <td title=\"Lower limit of the parameter\">Limit-</td>\n",
       "        <td title=\"Upper limit of the parameter\">Limit+</td>\n",
       "        <td title=\"Is the parameter fixed in the fit\">Fixed?</td>\n",
       "    </tr>\n",
       "    <tr>\n",
       "        <td>0</td>\n",
       "        <td>slope</td>\n",
       "        <td>0.98</td>\n",
       "        <td>0.0547266</td>\n",
       "        <td>-0.0547266</td>\n",
       "        <td>0.0547266</td>\n",
       "        <td></td>\n",
       "        <td></td>\n",
       "        <td>No</td>\n",
       "    </tr>\n",
       "    <tr>\n",
       "        <td>1</td>\n",
       "        <td>offset</td>\n",
       "        <td>0.0290909</td>\n",
       "        <td>0.111169</td>\n",
       "        <td>-0.111169</td>\n",
       "        <td>0.111169</td>\n",
       "        <td></td>\n",
       "        <td></td>\n",
       "        <td>No</td>\n",
       "    </tr>\n",
       "</table>\n",
       "<pre id=\"jBxBMlGmkZ\" style=\"display:none;\">\n",
       "<textarea rows=\"10\" cols=\"50\" onclick=\"this.select()\" readonly>\n",
       "\\begin{tabular}{|c|r|r|r|r|r|r|r|c|}\n",
       "\\hline\n",
       " & Name & Value & Hesse Error & Minos Error- & Minos Error+ & Limit- & Limit+ & Fixed?\\\\\n",
       "\\hline\n",
       "0 & slope & 0.98 & 0.0547266 & -0.0547266 & 0.0547266 &  &  & No\\\\\n",
       "\\hline\n",
       "1 & offset & 0.0290909 & 0.111169 & -0.111169 & 0.111169 &  &  & No\\\\\n",
       "\\hline\n",
       "\\end{tabular}\n",
       "</textarea>\n",
       "</pre>"
      ]
     },
     "metadata": {},
     "output_type": "display_data"
    },
    {
     "name": "stdout",
     "output_type": "stream",
     "text": [
      "Enter something to continue 3\n",
      "Enter something to quit 3\n"
     ]
    },
    {
     "data": {
      "text/plain": [
       "'3'"
      ]
     },
     "execution_count": 8,
     "metadata": {},
     "output_type": "execute_result"
    },
    {
     "data": {
      "image/png": "[encoded data removed]",
      "text/plain": [
       "<Figure size 432x288 with 1 Axes>"
      ]
     },
     "metadata": {
      "needs_background": "light"
     },
     "output_type": "display_data"
    },
    {
     "data": {
      "image/png": "[encoded data removed]",
      "text/plain": [
       "<Figure size 432x288 with 1 Axes>"
      ]
     },
     "metadata": {
      "needs_background": "light"
     },
     "output_type": "display_data"
    }
   ],
   "source": [
    "import numpy as np\n",
    "import matplotlib.pyplot as plt\n",
    "from iminuit import Minuit\n",
    "\n",
    "# Minuit needs to define a function to minimize\n",
    "# explicitely...it does not need to be a chisquared\n",
    "def myChi2(slope, offset):\n",
    "    global x\n",
    "    global y\n",
    "    global dy\n",
    "    yfit = slope*x + offset\n",
    "    temp = (y-yfit)/dy\n",
    "    return (temp*temp).sum()\n",
    "\n",
    "def NLL(S,B,alpha):#wtf is alpha and S and B are \n",
    "    \n",
    "    # alpha=0  ---> use b_pdf\n",
    "    # alpha=1  ---> use b1_pdf\n",
    "    # alpha=-1 ---> use b2_pdf\n",
    "    # (and smoothly interpolates vs. alpha)\n",
    "    if alpha>0:\n",
    "        new_b_pdf = b_pdf + alpha*(b1_pdf-b_pdf)\n",
    "    else:\n",
    "        new_b_pdf = b_pdf - alpha*(b2_pdf-b_pdf)    \n",
    "    # should be already normalized, but make sure\n",
    "    new_b_pdf = new_b_pdf / new_b_pdf.sum()  \n",
    "    temp = d * np.log(S*s_pdf + B*new_b_pdf)\n",
    "    return S + B - temp.sum() + alpha*alpha/2.\n",
    "\n",
    "x = np.array([1., 2., 3.])\n",
    "y = np.array([1.1, 1.9, 3.1])     \n",
    "dy = np.array([0.1, 0.07, 0.12])  # error in y\n",
    "\n",
    "# Initialize Minuit\n",
    "# It needs\n",
    "# - the name of the function to minimize\n",
    "# - initial value\n",
    "# - print_level is for debug prints\n",
    "# - errordef=0.5 for log-likelihoods\n",
    "# - print_level=0 is \"silent\"  Set it to 1 etc for more output\n",
    "# - error_slope and error_offset are the \"step sizes\" for the initial\n",
    "#   search for a minimum\n",
    "m = Minuit(myChi2, slope=1., offset=0., print_level=0,\n",
    "           errordef=0.5, error_slope=0.1, error_offset=0.1) \n",
    "\n",
    "# Migrad is the simplest minimization\n",
    "fmin, param = m.migrad()\n",
    "\n",
    "# fmin is a dictionary with lots of info on the status of the minimization\n",
    "# Here is some of it\n",
    "print('Value of minimized function at minimum = ',fmin['fval'])\n",
    "print('Estimated distance to minimum          = ',fmin['edm'])\n",
    "print('Is the fit valid = ', fmin['is_valid'])\n",
    "print('Has covariance   = ', fmin['has_covariance'])\n",
    "print('---------------')\n",
    "\n",
    "# param is a list of dictionaries with info on the fit parameters\n",
    "# Here is some of it\n",
    "print('Parameter name  = ', param[0]['name'])\n",
    "print('Parameter value = ', param[0]['value'])\n",
    "print('Parameter error = ', param[0]['error'])\n",
    "print(' ')\n",
    "print('Parameter name  = ', param[1]['name'])\n",
    "print('Parameter value = ', param[1]['value'])\n",
    "print('Parameter error = ', param[1]['error'])\n",
    "print(' ')\n",
    "\n",
    "# Covariance Matrix\n",
    "for i in [0,1]:\n",
    "    for j in [0,1]:\n",
    "        print(\"Cov(%d,%d) = %f\" %(i,j,m.matrix()[i][j]))\n",
    "\n",
    "# Minos calculates asymmetric errors for more complicated cases\n",
    "m.minos(var=\"slope\")\n",
    "m.minos(var=\"offset\")\n",
    "\n",
    "# Some output\n",
    "m.print_param()\n",
    "\n",
    "# And now contours of the fitted function\n",
    "# (very similar to testFit_V2.py version)\n",
    "fittedSlope  = param[0]['value']\n",
    "fittedOffset = param[1]['value']\n",
    "fig2, ax2 = plt.subplots()\n",
    "\n",
    "# bound=4   --> got to +/- 4 sigma\n",
    "# bins=100  --> how many bins to do\n",
    "xx, yy, zz = m.contour('slope', 'offset', subtract_min=True, bound=4, bins=100)\n",
    "CS = ax2.contour(xx, yy, zz, [2.30, 5.99, 9.21])\n",
    "fmt = {}\n",
    "strs = [ '68%', '95%', '99%' ]\n",
    "for l,s in zip( CS.levels, strs ):\n",
    "    fmt[l] = s\n",
    "ax2.clabel(CS, inline=True, fmt=fmt, fontsize=9)\n",
    "ax2.plot(fittedSlope, fittedOffset, 'ko')\n",
    "ax2.set_xlabel('slope')\n",
    "ax2.set_ylabel('offset')\n",
    "fig2.show()\n",
    "input('Enter something to continue ')\n",
    "\n",
    "\n",
    "# If we are particularly interested in one parameter\n",
    "# (say: the slope) we can scan the chisquared as a function\n",
    "# of \"slope\" minimizing wrt to the other parameter (\"offset\"\n",
    "# in this case) at each point.  This is similar information\n",
    "# as the previous contour but\n",
    "# (a) Contours can only be drawn for two parameters whereas\n",
    "#     this procedure can be done for as many parameters\n",
    "#     as you wish, ie, you fix one parameter and then minimize\n",
    "#     wrt all other parameters, and then you repeat by scanning\n",
    "#     the value of the fixed parameter\n",
    "# (b) The total 1 (2,3) sigma uncertainty for the scanned\n",
    "#     parameter is taken at the value of the scanned parameter\n",
    "#     where the chisquared increases by 1 (2^2=4, 3^2=9) from\n",
    "#     its value at the minimum.\n",
    "# For \"well-behaved\" problems (or in the limit of large statistics)\n",
    "# this scan will look parabolic.\n",
    "# This process is called \"profiling\"\n",
    "xxx, yyy, _ = m.mnprofile('slope', subtract_min=True, bins=100, bound=3)\n",
    "fig3, ax3 = plt.subplots()\n",
    "ax3.plot(xxx,yyy,linestyle='solid', color='b')\n",
    "ax3.set_ylim(0, 1.2*max(yyy))\n",
    "ax3.set_xlim(min(xxx), max(xxx))\n",
    "ax3.set_xlabel('slope')\n",
    "ax3.set_ylabel('deltaChiSquared')\n",
    "ax3.grid()\n",
    "fig3.show()\n",
    "input('Enter something to quit ')"
   ]
  },
  {
   "cell_type": "code",
   "execution_count": 15,
   "metadata": {},
   "outputs": [
    {
     "data": {
      "image/png": "[encoded data removed]",
      "text/plain": [
       "<Figure size 432x288 with 1 Axes>"
      ]
     },
     "metadata": {
      "needs_background": "light"
     },
     "output_type": "display_data"
    }
   ],
   "source": [
    "from matplotlib import pyplot as mp\n",
    "import numpy as np\n",
    "\n",
    "def gaussian(x, mu, sig):\n",
    "    return np.exp(-np.power(x - mu, 2.) / (2 * np.power(sig, 2.)))\n",
    "\n",
    "x_values = np.linspace(-155, 155, 5)\n",
    "for mu, sig in [(-1, 1), (0, 2), (2, 3)]:\n",
    "    mp.plot(x_values, gaussian(x_values, mu, sig))\n",
    "\n",
    "mp.show()\n"
   ]
  },
  {
   "cell_type": "code",
   "execution_count": null,
   "metadata": {},
   "outputs": [],
   "source": [
    "def NLL(S,B,alpha):#wtf is alpha and S and B are \n",
    "    \n",
    "    # alpha=0  ---> use b_pdf\n",
    "    # alpha=1  ---> use b1_pdf\n",
    "    # alpha=-1 ---> use b2_pdf\n",
    "    # (and smoothly interpolates vs. alpha)\n",
    "    if alpha>0:\n",
    "        new_b_pdf = b_pdf + alpha*(b1_pdf-b_pdf)\n",
    "    else:\n",
    "        new_b_pdf = b_pdf - alpha*(b2_pdf-b_pdf)    \n",
    "    # should be already normalized, but make sure\n",
    "    new_b_pdf = new_b_pdf / new_b_pdf.sum()  \n",
    "    temp = d * np.log(S*s_pdf + B*new_b_pdf)\n",
    "    return S + B - temp.sum() + alpha*alpha/2.\n",
    "\n",
    "# Setup the fitter.  S, B, alpha are the initial guesses\n",
    "# print_level=0 --> suppress print of intermediate information \n",
    "# errordef = 0.5   because for NLL 1 sigma errors are  from\n",
    "#                  NLL-NLL(at minimum) = 0.5\n",
    "# error_S, error_B, alpha: are initial steps to look for minimum\n",
    "# We fix alpha=0 if shapeSyst=False\n",
    "m = Minuit(NLL, S=10., B=500., alpha=0., print_level=1,\n",
    "           errordef=0.5, error_S=1.0, error_B=1.0, error_alpha=0.1,\n",
    "           fix_alpha=(not shapeSyst))\n",
    "\n",
    "# Run the fitter\n",
    "m.migrad()\n",
    "m.minos()\n",
    "m.print_param()\n",
    "\n",
    "# Profile scan of the fitted function (NLL).\n",
    "# At each FIXED value of S, fit again for B,\n",
    "# extract the NLL at the minimum, subtract \n",
    "# the NLL at the GLOBAL minimum, and plot it\n",
    "xxx, yyy, _ = m.mnprofile('S', subtract_min=True, bins=100, bound=(0,60))\n",
    "\n",
    "# m.mnprofile does all the work... \n",
    "# Now we just plot the results\n",
    "# deltaNLL = 0.5 (2, 4.5 ) corresponds to 1 (2, 3) sigma\n",
    "\n",
    "fig3, ax3 = plt.subplots()\n",
    "ax3.plot(xxx,yyy,linestyle='solid', color='b')\n",
    "ax3.set_xlim(min(xxx), max(xxx))\n",
    "ax3.set_ylim(0.)\n",
    "ax3.set_xlabel('S')\n",
    "ax3.set_ylabel('deltaNLL')\n",
    "ax3.plot([min(xxx), max(xxx)], [0.5, 0.5], linestyle='dashed', color='red')\n",
    "ax3.plot([min(xxx), max(xxx)], [2.0, 2.0], linestyle='dashed', color='red')\n",
    "ax3.plot([min(xxx), max(xxx)], [4.5, 4.5], linestyle='dashed', color='red')\n",
    "fig3.show()\n",
    "\n",
    "# Show the data...first get fit parameters\n",
    "fittedB = m.values['B']\n",
    "fittedS = m.values['S']\n",
    "fitteda = m.values['alpha']\n",
    "if fitteda>0:\n",
    "    bf_pdf = b_pdf + fitteda*(b1_pdf-b_pdf)\n",
    "else:\n",
    "    bf_pdf = b_pdf - fitteda*(b2_pdf-b_pdf)\n",
    "bf_pdf = bf_pdf / bf_pdf.sum()\n",
    "    \n",
    "# Then plot stacked histograms of S and B\n",
    "# lists with the data, colors, and labels of the two hist \n",
    "blah   = [binCen, binCen]\n",
    "colors = ['blue', 'red']\n",
    "names  = ['Background', 'Signal']\n",
    "w2     = [fittedB*bf_pdf, fittedS*s_pdf]\n",
    "\n",
    "fig42, ax42 = plt.subplots()\n",
    "ax42.hist(blah, binEdges, histtype='stepfilled', log=True,\n",
    "          color=colors, stacked='True', label=names, weights=w2, alpha=0.4)\n",
    "ax42.errorbar(binCen, d, yerr=np.sqrt(d), linestyle='none', marker='o', \n",
    "              color='black', markersize=4)\n",
    "ax42.set_ylim(0.1)\n",
    "ax42.set_xlim(binEdges[0], binEdges[-1])\n",
    "ax42.legend()\n",
    "ax42.set_ylabel(\"Number of events\")\n",
    "fig42.show()\n",
    "input('Enter something to quit')\n"
   ]
  }
 ],
 "metadata": {
  "kernelspec": {
   "display_name": "Python 3",
   "language": "python",
   "name": "python3"
  },
  "language_info": {
   "codemirror_mode": {
    "name": "ipython",
    "version": 3
   },
   "file_extension": ".py",
   "mimetype": "text/x-python",
   "name": "python",
   "nbconvert_exporter": "python",
   "pygments_lexer": "ipython3",
   "version": "3.7.1"
  }
 },
 "nbformat": 4,
 "nbformat_minor": 2
}
